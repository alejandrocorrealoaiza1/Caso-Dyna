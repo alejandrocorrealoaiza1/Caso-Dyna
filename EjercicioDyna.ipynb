{
  "cells": [
    {
      "cell_type": "code",
      "execution_count": 1,
      "metadata": {
        "id": "a_XBk1k02ly0"
      },
      "outputs": [],
      "source": [
        "from google.colab import drive\n",
        "import pandas as pd\n",
        "import numpy as np\n",
        "from sklearn.impute import MissingIndicator # Es una función que permite identificar los datos faltantes\n",
        "import seaborn as sns\n",
        "import matplotlib.pyplot as plt\n",
        "import matplotlib.cm as cm\n",
        "from datetime import datetime\n",
        "from numpy import NaN\n",
        "from sklearn.preprocessing import StandardScaler\n",
        "from sklearn.decomposition import PCA\n",
        "from sklearn.preprocessing import OneHotEncoder # Librería donde está el método One-Hot Encoder\n",
        "from scipy.stats import fisher_exact # Test exacto de Fisher\n",
        "from sklearn.preprocessing import MinMaxScaler\n",
        "from sklearn.cluster import KMeans # Algoritmo KMeans\n",
        "from sklearn.metrics import silhouette_score,  silhouette_samples\n",
        "from yellowbrick.cluster import KElbowVisualizer"
      ]
    },
    {
      "cell_type": "code",
      "execution_count": 2,
      "metadata": {
        "colab": {
          "base_uri": "https://localhost:8080/"
        },
        "id": "NJwbyL272n6h",
        "outputId": "6dfd369b-348e-4c18-ec56-d6489aa7c236"
      },
      "outputs": [
        {
          "name": "stdout",
          "output_type": "stream",
          "text": [
            "Mounted at /content/drive\n"
          ]
        }
      ],
      "source": [
        "drive.mount('/content/drive')"
      ]
    },
    {
      "cell_type": "markdown",
      "metadata": {
        "id": "eT9_sffQK_u5"
      },
      "source": [
        "## BASE DE DATOS"
      ]
    },
    {
      "cell_type": "markdown",
      "metadata": {
        "id": "H3xXdgRxgHR1"
      },
      "source": [
        "Se tiene la información mes a mes en Google Drive, se procede a armar la base datos completa "
      ]
    },
    {
      "cell_type": "code",
      "execution_count": 3,
      "metadata": {
        "id": "U7K5I8pJ5JYS"
      },
      "outputs": [],
      "source": [
        "dir = '/content/drive/MyDrive/content/B_D/'\n",
        "\n",
        "df = None\n",
        "\n",
        "años = ['2022']\n",
        "meses = ['07','08','09','10','11','12']\n",
        "\n",
        "for i in (años):\n",
        "  for j in (meses):\n",
        "    try:\n",
        "      #dfu = pd.read_csv(f\"{dir}{i}{j}.csv\", low_memory=False, encoding='latin-1', dayfirst=True, parse_dates=True, index_col=[0]).reset_index()\n",
        "      dfu = pd.read_csv(f\"{dir}{i}{j}.csv\", low_memory=False, encoding='latin-1', decimal=\".\")\n",
        "      df = pd.concat([df,dfu])\n",
        "    except:\n",
        "      pass\n"
      ]
    },
    {
      "cell_type": "code",
      "execution_count": 4,
      "metadata": {
        "colab": {
          "base_uri": "https://localhost:8080/",
          "height": 594
        },
        "id": "REQebwLP708C",
        "outputId": "543c11ec-c7a5-4b69-f4dc-be99578f2a93"
      },
      "outputs": [
        {
          "data": {
            "text/html": [
              "\n",
              "  <div id=\"df-575f1011-96ee-4b84-808d-660fe2950002\">\n",
              "    <div class=\"colab-df-container\">\n",
              "      <div>\n",
              "<style scoped>\n",
              "    .dataframe tbody tr th:only-of-type {\n",
              "        vertical-align: middle;\n",
              "    }\n",
              "\n",
              "    .dataframe tbody tr th {\n",
              "        vertical-align: top;\n",
              "    }\n",
              "\n",
              "    .dataframe thead th {\n",
              "        text-align: right;\n",
              "    }\n",
              "</style>\n",
              "<table border=\"1\" class=\"dataframe\">\n",
              "  <thead>\n",
              "    <tr style=\"text-align: right;\">\n",
              "      <th></th>\n",
              "      <th>Fecha</th>\n",
              "      <th>Nro documento</th>\n",
              "      <th>Estado movto.</th>\n",
              "      <th>Bodega</th>\n",
              "      <th>Item</th>\n",
              "      <th>Desc. item</th>\n",
              "      <th>CLASIFICACION VENTAS PESOS</th>\n",
              "      <th>CLASIFICACION ROTACION UNIDADES</th>\n",
              "      <th>U.M.</th>\n",
              "      <th>Cant. pedida</th>\n",
              "      <th>...</th>\n",
              "      <th>Depto</th>\n",
              "      <th>Desc depto</th>\n",
              "      <th>Ciudad</th>\n",
              "      <th>Desc. ciudad</th>\n",
              "      <th>Barrio</th>\n",
              "      <th>Desc. Barrio</th>\n",
              "      <th>Razón social cliente despacho</th>\n",
              "      <th>Referencia</th>\n",
              "      <th>DirecciÃ³n 1</th>\n",
              "      <th>RazÃ³n social cliente despacho</th>\n",
              "    </tr>\n",
              "  </thead>\n",
              "  <tbody>\n",
              "    <tr>\n",
              "      <th>0</th>\n",
              "      <td>07/19/2022</td>\n",
              "      <td>PED-01521420</td>\n",
              "      <td>Cumplido</td>\n",
              "      <td>1.0</td>\n",
              "      <td>43071.0</td>\n",
              "      <td>TOMA DOBLE T/AMER BLANCO FORTE A10-105/2</td>\n",
              "      <td>0002 - B (60%)</td>\n",
              "      <td>0002 - B (60%)</td>\n",
              "      <td>UND</td>\n",
              "      <td>2.0</td>\n",
              "      <td>...</td>\n",
              "      <td>15.0</td>\n",
              "      <td>Boyacá</td>\n",
              "      <td>238.0</td>\n",
              "      <td>DUITAMA (758) S.L</td>\n",
              "      <td>NaN</td>\n",
              "      <td></td>\n",
              "      <td>SOLANO HOLGUIN EDWIN HERNAN</td>\n",
              "      <td>A10-105/2                                     ...</td>\n",
              "      <td>NaN</td>\n",
              "      <td>NaN</td>\n",
              "    </tr>\n",
              "    <tr>\n",
              "      <th>1</th>\n",
              "      <td>07/07/2022</td>\n",
              "      <td>PED-01517056</td>\n",
              "      <td>Cumplido</td>\n",
              "      <td>1.0</td>\n",
              "      <td>16075.0</td>\n",
              "      <td>CANDADO TIPO ALEMAN 50mm VERA</td>\n",
              "      <td>0005 - E (100%)</td>\n",
              "      <td>0005 - E (100%)</td>\n",
              "      <td>UND</td>\n",
              "      <td>3.0</td>\n",
              "      <td>...</td>\n",
              "      <td>15.0</td>\n",
              "      <td>Boyacá</td>\n",
              "      <td>238.0</td>\n",
              "      <td>DUITAMA (758) S.L</td>\n",
              "      <td>NaN</td>\n",
              "      <td></td>\n",
              "      <td>DISTRIBUIDORA TUNDAMA  M &amp; T</td>\n",
              "      <td>BELL Z850-D                                   ...</td>\n",
              "      <td>NaN</td>\n",
              "      <td>NaN</td>\n",
              "    </tr>\n",
              "    <tr>\n",
              "      <th>2</th>\n",
              "      <td>07/07/2022</td>\n",
              "      <td>PED-01517056</td>\n",
              "      <td>Cumplido</td>\n",
              "      <td>1.0</td>\n",
              "      <td>29909.0</td>\n",
              "      <td>PUNTA PHLLIPS N° 2 1/4\"X2\" FORTE</td>\n",
              "      <td>0001 - A (50%)</td>\n",
              "      <td>0001 - A (50%)</td>\n",
              "      <td>C100</td>\n",
              "      <td>1.0</td>\n",
              "      <td>...</td>\n",
              "      <td>15.0</td>\n",
              "      <td>Boyacá</td>\n",
              "      <td>238.0</td>\n",
              "      <td>DUITAMA (758) S.L</td>\n",
              "      <td>NaN</td>\n",
              "      <td></td>\n",
              "      <td>DISTRIBUIDORA TUNDAMA  M &amp; T</td>\n",
              "      <td>109881</td>\n",
              "      <td>NaN</td>\n",
              "      <td>NaN</td>\n",
              "    </tr>\n",
              "    <tr>\n",
              "      <th>3</th>\n",
              "      <td>07/07/2022</td>\n",
              "      <td>PED-01517056</td>\n",
              "      <td>Cumplido</td>\n",
              "      <td>1.0</td>\n",
              "      <td>43346.0</td>\n",
              "      <td>DISCO FINO T41 4.1/2X0.045X7/8 DW8062:C</td>\n",
              "      <td>0001 - A (50%)</td>\n",
              "      <td>0001 - A (50%)</td>\n",
              "      <td>C25</td>\n",
              "      <td>2.0</td>\n",
              "      <td>...</td>\n",
              "      <td>15.0</td>\n",
              "      <td>Boyacá</td>\n",
              "      <td>238.0</td>\n",
              "      <td>DUITAMA (758) S.L</td>\n",
              "      <td>NaN</td>\n",
              "      <td></td>\n",
              "      <td>DISTRIBUIDORA TUNDAMA  M &amp; T</td>\n",
              "      <td>DW8062:C                                      ...</td>\n",
              "      <td>NaN</td>\n",
              "      <td>NaN</td>\n",
              "    </tr>\n",
              "    <tr>\n",
              "      <th>4</th>\n",
              "      <td>07/21/2022</td>\n",
              "      <td>PED-01522426</td>\n",
              "      <td>Cumplido</td>\n",
              "      <td>1.0</td>\n",
              "      <td>2322.0</td>\n",
              "      <td>BROCA HSS ANSI 9411 X 3/32  IW1110 IRWIN</td>\n",
              "      <td>0002 - B (60%)</td>\n",
              "      <td>0002 - B (60%)</td>\n",
              "      <td>C10</td>\n",
              "      <td>1.0</td>\n",
              "      <td>...</td>\n",
              "      <td>15.0</td>\n",
              "      <td>Boyacá</td>\n",
              "      <td>238.0</td>\n",
              "      <td>DUITAMA (758) S.L</td>\n",
              "      <td>NaN</td>\n",
              "      <td></td>\n",
              "      <td>PEREZ RAMIREZ CARLOS ANDRES</td>\n",
              "      <td>IW1110                                        ...</td>\n",
              "      <td>NaN</td>\n",
              "      <td>NaN</td>\n",
              "    </tr>\n",
              "  </tbody>\n",
              "</table>\n",
              "<p>5 rows × 33 columns</p>\n",
              "</div>\n",
              "      <button class=\"colab-df-convert\" onclick=\"convertToInteractive('df-575f1011-96ee-4b84-808d-660fe2950002')\"\n",
              "              title=\"Convert this dataframe to an interactive table.\"\n",
              "              style=\"display:none;\">\n",
              "        \n",
              "  <svg xmlns=\"http://www.w3.org/2000/svg\" height=\"24px\"viewBox=\"0 0 24 24\"\n",
              "       width=\"24px\">\n",
              "    <path d=\"M0 0h24v24H0V0z\" fill=\"none\"/>\n",
              "    <path d=\"M18.56 5.44l.94 2.06.94-2.06 2.06-.94-2.06-.94-.94-2.06-.94 2.06-2.06.94zm-11 1L8.5 8.5l.94-2.06 2.06-.94-2.06-.94L8.5 2.5l-.94 2.06-2.06.94zm10 10l.94 2.06.94-2.06 2.06-.94-2.06-.94-.94-2.06-.94 2.06-2.06.94z\"/><path d=\"M17.41 7.96l-1.37-1.37c-.4-.4-.92-.59-1.43-.59-.52 0-1.04.2-1.43.59L10.3 9.45l-7.72 7.72c-.78.78-.78 2.05 0 2.83L4 21.41c.39.39.9.59 1.41.59.51 0 1.02-.2 1.41-.59l7.78-7.78 2.81-2.81c.8-.78.8-2.07 0-2.86zM5.41 20L4 18.59l7.72-7.72 1.47 1.35L5.41 20z\"/>\n",
              "  </svg>\n",
              "      </button>\n",
              "      \n",
              "  <style>\n",
              "    .colab-df-container {\n",
              "      display:flex;\n",
              "      flex-wrap:wrap;\n",
              "      gap: 12px;\n",
              "    }\n",
              "\n",
              "    .colab-df-convert {\n",
              "      background-color: #E8F0FE;\n",
              "      border: none;\n",
              "      border-radius: 50%;\n",
              "      cursor: pointer;\n",
              "      display: none;\n",
              "      fill: #1967D2;\n",
              "      height: 32px;\n",
              "      padding: 0 0 0 0;\n",
              "      width: 32px;\n",
              "    }\n",
              "\n",
              "    .colab-df-convert:hover {\n",
              "      background-color: #E2EBFA;\n",
              "      box-shadow: 0px 1px 2px rgba(60, 64, 67, 0.3), 0px 1px 3px 1px rgba(60, 64, 67, 0.15);\n",
              "      fill: #174EA6;\n",
              "    }\n",
              "\n",
              "    [theme=dark] .colab-df-convert {\n",
              "      background-color: #3B4455;\n",
              "      fill: #D2E3FC;\n",
              "    }\n",
              "\n",
              "    [theme=dark] .colab-df-convert:hover {\n",
              "      background-color: #434B5C;\n",
              "      box-shadow: 0px 1px 3px 1px rgba(0, 0, 0, 0.15);\n",
              "      filter: drop-shadow(0px 1px 2px rgba(0, 0, 0, 0.3));\n",
              "      fill: #FFFFFF;\n",
              "    }\n",
              "  </style>\n",
              "\n",
              "      <script>\n",
              "        const buttonEl =\n",
              "          document.querySelector('#df-575f1011-96ee-4b84-808d-660fe2950002 button.colab-df-convert');\n",
              "        buttonEl.style.display =\n",
              "          google.colab.kernel.accessAllowed ? 'block' : 'none';\n",
              "\n",
              "        async function convertToInteractive(key) {\n",
              "          const element = document.querySelector('#df-575f1011-96ee-4b84-808d-660fe2950002');\n",
              "          const dataTable =\n",
              "            await google.colab.kernel.invokeFunction('convertToInteractive',\n",
              "                                                     [key], {});\n",
              "          if (!dataTable) return;\n",
              "\n",
              "          const docLinkHtml = 'Like what you see? Visit the ' +\n",
              "            '<a target=\"_blank\" href=https://colab.research.google.com/notebooks/data_table.ipynb>data table notebook</a>'\n",
              "            + ' to learn more about interactive tables.';\n",
              "          element.innerHTML = '';\n",
              "          dataTable['output_type'] = 'display_data';\n",
              "          await google.colab.output.renderOutput(dataTable, element);\n",
              "          const docLink = document.createElement('div');\n",
              "          docLink.innerHTML = docLinkHtml;\n",
              "          element.appendChild(docLink);\n",
              "        }\n",
              "      </script>\n",
              "    </div>\n",
              "  </div>\n",
              "  "
            ],
            "text/plain": [
              "        Fecha Nro documento Estado movto.  Bodega     Item  \\\n",
              "0  07/19/2022  PED-01521420      Cumplido     1.0  43071.0   \n",
              "1  07/07/2022  PED-01517056      Cumplido     1.0  16075.0   \n",
              "2  07/07/2022  PED-01517056      Cumplido     1.0  29909.0   \n",
              "3  07/07/2022  PED-01517056      Cumplido     1.0  43346.0   \n",
              "4  07/21/2022  PED-01522426      Cumplido     1.0   2322.0   \n",
              "\n",
              "                                 Desc. item CLASIFICACION VENTAS PESOS  \\\n",
              "0  TOMA DOBLE T/AMER BLANCO FORTE A10-105/2             0002 - B (60%)   \n",
              "1             CANDADO TIPO ALEMAN 50mm VERA            0005 - E (100%)   \n",
              "2          PUNTA PHLLIPS N° 2 1/4\"X2\" FORTE             0001 - A (50%)   \n",
              "3   DISCO FINO T41 4.1/2X0.045X7/8 DW8062:C             0001 - A (50%)   \n",
              "4  BROCA HSS ANSI 9411 X 3/32  IW1110 IRWIN             0002 - B (60%)   \n",
              "\n",
              "  CLASIFICACION ROTACION UNIDADES  U.M. Cant. pedida  ...  Depto Desc depto  \\\n",
              "0                  0002 - B (60%)  UND           2.0  ...   15.0     Boyacá   \n",
              "1                 0005 - E (100%)  UND           3.0  ...   15.0     Boyacá   \n",
              "2                  0001 - A (50%)  C100          1.0  ...   15.0     Boyacá   \n",
              "3                  0001 - A (50%)  C25           2.0  ...   15.0     Boyacá   \n",
              "4                  0002 - B (60%)  C10           1.0  ...   15.0     Boyacá   \n",
              "\n",
              "  Ciudad       Desc. ciudad Barrio Desc. Barrio Razón social cliente despacho  \\\n",
              "0  238.0  DUITAMA (758) S.L    NaN                SOLANO HOLGUIN EDWIN HERNAN   \n",
              "1  238.0  DUITAMA (758) S.L    NaN               DISTRIBUIDORA TUNDAMA  M & T   \n",
              "2  238.0  DUITAMA (758) S.L    NaN               DISTRIBUIDORA TUNDAMA  M & T   \n",
              "3  238.0  DUITAMA (758) S.L    NaN               DISTRIBUIDORA TUNDAMA  M & T   \n",
              "4  238.0  DUITAMA (758) S.L    NaN                PEREZ RAMIREZ CARLOS ANDRES   \n",
              "\n",
              "                                          Referencia DirecciÃ³n 1  \\\n",
              "0  A10-105/2                                     ...          NaN   \n",
              "1  BELL Z850-D                                   ...          NaN   \n",
              "2                                             109881          NaN   \n",
              "3  DW8062:C                                      ...          NaN   \n",
              "4  IW1110                                        ...          NaN   \n",
              "\n",
              "  RazÃ³n social cliente despacho  \n",
              "0                            NaN  \n",
              "1                            NaN  \n",
              "2                            NaN  \n",
              "3                            NaN  \n",
              "4                            NaN  \n",
              "\n",
              "[5 rows x 33 columns]"
            ]
          },
          "execution_count": 4,
          "metadata": {},
          "output_type": "execute_result"
        }
      ],
      "source": [
        "df.head()"
      ]
    },
    {
      "cell_type": "code",
      "execution_count": 5,
      "metadata": {
        "colab": {
          "base_uri": "https://localhost:8080/"
        },
        "id": "E8_7Nc3lG9JS",
        "outputId": "8fbd9ddd-b55d-432a-9e85-02c7990a1a39"
      },
      "outputs": [
        {
          "data": {
            "text/plain": [
              "(703236, 33)"
            ]
          },
          "execution_count": 5,
          "metadata": {},
          "output_type": "execute_result"
        }
      ],
      "source": [
        "df.shape"
      ]
    },
    {
      "cell_type": "markdown",
      "metadata": {
        "id": "Gj0TeDY3KEEH"
      },
      "source": [
        "##ANÁLISIS EXPLORATORIO DE DATOS"
      ]
    },
    {
      "cell_type": "code",
      "execution_count": 6,
      "metadata": {
        "colab": {
          "base_uri": "https://localhost:8080/"
        },
        "id": "HIMeldrFMFyy",
        "outputId": "6db72423-616e-45c7-b3a6-02d96d955352"
      },
      "outputs": [
        {
          "name": "stdout",
          "output_type": "stream",
          "text": [
            "<class 'pandas.core.frame.DataFrame'>\n",
            "Int64Index: 703236 entries, 0 to 26991\n",
            "Data columns (total 33 columns):\n",
            " #   Column                           Non-Null Count   Dtype  \n",
            "---  ------                           --------------   -----  \n",
            " 0   Fecha                            703236 non-null  object \n",
            " 1   Nro documento                    703221 non-null  object \n",
            " 2   Estado movto.                    703221 non-null  object \n",
            " 3   Bodega                           703221 non-null  float64\n",
            " 4   Item                             703221 non-null  float64\n",
            " 5   Desc. item                       703221 non-null  object \n",
            " 6   CLASIFICACION VENTAS PESOS       703221 non-null  object \n",
            " 7   CLASIFICACION ROTACION UNIDADES  703221 non-null  object \n",
            " 8   U.M.                             703221 non-null  object \n",
            " 9   Cant. pedida                     703221 non-null  object \n",
            " 10  Cant. comprom.                   703221 non-null  float64\n",
            " 11  Cant. factura                    703221 non-null  object \n",
            " 12  Desc. motivo                     703221 non-null  object \n",
            " 13  Vendedor                         703221 non-null  object \n",
            " 14  Nombre vendedor                  703221 non-null  object \n",
            " 15  Valor bruto                      703221 non-null  object \n",
            " 16  COMPRAS                          703221 non-null  object \n",
            " 17  MARCA                            703221 non-null  object \n",
            " 18  CATEGORIA                        703221 non-null  object \n",
            " 19  SUBCATEGORIA                     703221 non-null  object \n",
            " 20  PROVEEDOR CCIAL                  703221 non-null  object \n",
            " 21  FAMILIA-PRODUCTO                 703221 non-null  object \n",
            " 22  Dirección 1                      676223 non-null  object \n",
            " 23  Depto                            703221 non-null  float64\n",
            " 24  Desc depto                       703221 non-null  object \n",
            " 25  Ciudad                           703221 non-null  float64\n",
            " 26  Desc. ciudad                     703221 non-null  object \n",
            " 27  Barrio                           294034 non-null  object \n",
            " 28  Desc. Barrio                     702729 non-null  object \n",
            " 29  Razón social cliente despacho    676230 non-null  object \n",
            " 30  Referencia                       703221 non-null  object \n",
            " 31  DirecciÃ³n 1                     26991 non-null   object \n",
            " 32  RazÃ³n social cliente despacho   26991 non-null   object \n",
            "dtypes: float64(5), object(28)\n",
            "memory usage: 182.4+ MB\n"
          ]
        }
      ],
      "source": [
        "df.info()"
      ]
    },
    {
      "cell_type": "markdown",
      "metadata": {
        "id": "oP2vrn4jcr56"
      },
      "source": [
        "Se observa que las ultimas columnas de los pedidos se agregaron unas variables desconocidas, se deben revisar."
      ]
    },
    {
      "cell_type": "code",
      "execution_count": 7,
      "metadata": {
        "id": "xLY-xSXbQ6NQ"
      },
      "outputs": [],
      "source": [
        "df = df.rename(columns={'DirecciÃ³n 1':'Direccion_2','RazÃ³n social cliente despacho':'Razon social cliente despacho 2', 'Unnamed: 31': 'variable_31'})"
      ]
    },
    {
      "cell_type": "code",
      "execution_count": 9,
      "metadata": {
        "colab": {
          "base_uri": "https://localhost:8080/",
          "height": 594
        },
        "id": "B5o-DfPBkrWp",
        "outputId": "c74c12c5-05a6-4ffa-d50f-058def812bce"
      },
      "outputs": [
        {
          "data": {
            "text/html": [
              "\n",
              "  <div id=\"df-94786997-8ba2-403b-b908-15fa50fe3e8d\">\n",
              "    <div class=\"colab-df-container\">\n",
              "      <div>\n",
              "<style scoped>\n",
              "    .dataframe tbody tr th:only-of-type {\n",
              "        vertical-align: middle;\n",
              "    }\n",
              "\n",
              "    .dataframe tbody tr th {\n",
              "        vertical-align: top;\n",
              "    }\n",
              "\n",
              "    .dataframe thead th {\n",
              "        text-align: right;\n",
              "    }\n",
              "</style>\n",
              "<table border=\"1\" class=\"dataframe\">\n",
              "  <thead>\n",
              "    <tr style=\"text-align: right;\">\n",
              "      <th></th>\n",
              "      <th>Fecha</th>\n",
              "      <th>Nro documento</th>\n",
              "      <th>Estado movto.</th>\n",
              "      <th>Bodega</th>\n",
              "      <th>Item</th>\n",
              "      <th>Desc. item</th>\n",
              "      <th>CLASIFICACION VENTAS PESOS</th>\n",
              "      <th>CLASIFICACION ROTACION UNIDADES</th>\n",
              "      <th>U.M.</th>\n",
              "      <th>Cant. pedida</th>\n",
              "      <th>...</th>\n",
              "      <th>Depto</th>\n",
              "      <th>Desc depto</th>\n",
              "      <th>Ciudad</th>\n",
              "      <th>Desc. ciudad</th>\n",
              "      <th>Barrio</th>\n",
              "      <th>Desc. Barrio</th>\n",
              "      <th>Razón social cliente despacho</th>\n",
              "      <th>Referencia</th>\n",
              "      <th>Direccion_2</th>\n",
              "      <th>Razon social cliente despacho 2</th>\n",
              "    </tr>\n",
              "  </thead>\n",
              "  <tbody>\n",
              "    <tr>\n",
              "      <th>0</th>\n",
              "      <td>12/16/2022</td>\n",
              "      <td>PED-01581905</td>\n",
              "      <td>Cumplido</td>\n",
              "      <td>1.0</td>\n",
              "      <td>41566.0</td>\n",
              "      <td>SIKAFLEX FIX  GRIS  192480</td>\n",
              "      <td>0005 - E (100%)</td>\n",
              "      <td>0005 - E (100%)</td>\n",
              "      <td>UND</td>\n",
              "      <td>1</td>\n",
              "      <td>...</td>\n",
              "      <td>5.0</td>\n",
              "      <td>Antioquia</td>\n",
              "      <td>30.0</td>\n",
              "      <td>AMAGA (250)</td>\n",
              "      <td>NaN</td>\n",
              "      <td></td>\n",
              "      <td>NaN</td>\n",
              "      <td>192480</td>\n",
              "      <td>VEREDA EL MORRO VIA CAMILO C</td>\n",
              "      <td>CARROCERIAS AMAGA S A S</td>\n",
              "    </tr>\n",
              "    <tr>\n",
              "      <th>1</th>\n",
              "      <td>12/17/2022</td>\n",
              "      <td>PED-01582388</td>\n",
              "      <td>Cumplido</td>\n",
              "      <td>1.0</td>\n",
              "      <td>21071.0</td>\n",
              "      <td>PASADOR SUECO NGRO CT 3pg VERA</td>\n",
              "      <td>0005 - E (100%)</td>\n",
              "      <td>0003 - C (70%)</td>\n",
              "      <td>C48</td>\n",
              "      <td>1</td>\n",
              "      <td>...</td>\n",
              "      <td>5.0</td>\n",
              "      <td>Antioquia</td>\n",
              "      <td>31.0</td>\n",
              "      <td>AMALFI (250) S.L</td>\n",
              "      <td>NaN</td>\n",
              "      <td></td>\n",
              "      <td>NaN</td>\n",
              "      <td>21071</td>\n",
              "      <td>CL 19  19  075</td>\n",
              "      <td>BARRERA OCHOA ESTEBAN</td>\n",
              "    </tr>\n",
              "    <tr>\n",
              "      <th>2</th>\n",
              "      <td>12/5/2022</td>\n",
              "      <td>PED-01577604</td>\n",
              "      <td>Cumplido</td>\n",
              "      <td>1.0</td>\n",
              "      <td>43365.0</td>\n",
              "      <td>CARETA SOLDAR FOTOSENSIBLE WM40/2 FORTE</td>\n",
              "      <td>0003 - C (70%)</td>\n",
              "      <td>0005 - E (100%)</td>\n",
              "      <td>UND</td>\n",
              "      <td>2</td>\n",
              "      <td>...</td>\n",
              "      <td>5.0</td>\n",
              "      <td>Antioquia</td>\n",
              "      <td>31.0</td>\n",
              "      <td>AMALFI (250) S.L</td>\n",
              "      <td>NaN</td>\n",
              "      <td></td>\n",
              "      <td>NaN</td>\n",
              "      <td>WM40/2 ED                                     ...</td>\n",
              "      <td>CL   BOLIVAR  19  33</td>\n",
              "      <td>LOPERA RAMIREZ JESUS ALEJANDRO (PD)</td>\n",
              "    </tr>\n",
              "    <tr>\n",
              "      <th>3</th>\n",
              "      <td>12/5/2022</td>\n",
              "      <td>PED-01577604</td>\n",
              "      <td>Cumplido</td>\n",
              "      <td>1.0</td>\n",
              "      <td>39491.0</td>\n",
              "      <td>ZAPAPICO COLIMA CON CABO DE 5 LIBR  *</td>\n",
              "      <td>0004 - D (80%)</td>\n",
              "      <td>0005 - E (100%)</td>\n",
              "      <td>UND</td>\n",
              "      <td>3</td>\n",
              "      <td>...</td>\n",
              "      <td>5.0</td>\n",
              "      <td>Antioquia</td>\n",
              "      <td>31.0</td>\n",
              "      <td>AMALFI (250) S.L</td>\n",
              "      <td>NaN</td>\n",
              "      <td></td>\n",
              "      <td>NaN</td>\n",
              "      <td>67520405</td>\n",
              "      <td>CL   BOLIVAR  19  33</td>\n",
              "      <td>LOPERA RAMIREZ JESUS ALEJANDRO (PD)</td>\n",
              "    </tr>\n",
              "    <tr>\n",
              "      <th>4</th>\n",
              "      <td>12/6/2022</td>\n",
              "      <td>PED-01578213</td>\n",
              "      <td>Cumplido</td>\n",
              "      <td>1.0</td>\n",
              "      <td>7413.0</td>\n",
              "      <td>ASIENTO SANIT BASIC BONE X3 869713331</td>\n",
              "      <td>0001 - A (50%)</td>\n",
              "      <td>0005 - E (100%)</td>\n",
              "      <td>B3</td>\n",
              "      <td>2</td>\n",
              "      <td>...</td>\n",
              "      <td>5.0</td>\n",
              "      <td>Antioquia</td>\n",
              "      <td>266.0</td>\n",
              "      <td>ENVIGADO (0)</td>\n",
              "      <td>NaN</td>\n",
              "      <td></td>\n",
              "      <td>NaN</td>\n",
              "      <td>869713331</td>\n",
              "      <td>CR  39  36  SUR 08</td>\n",
              "      <td>INVERSIONES FEDESQUINA S A S</td>\n",
              "    </tr>\n",
              "  </tbody>\n",
              "</table>\n",
              "<p>5 rows × 33 columns</p>\n",
              "</div>\n",
              "      <button class=\"colab-df-convert\" onclick=\"convertToInteractive('df-94786997-8ba2-403b-b908-15fa50fe3e8d')\"\n",
              "              title=\"Convert this dataframe to an interactive table.\"\n",
              "              style=\"display:none;\">\n",
              "        \n",
              "  <svg xmlns=\"http://www.w3.org/2000/svg\" height=\"24px\"viewBox=\"0 0 24 24\"\n",
              "       width=\"24px\">\n",
              "    <path d=\"M0 0h24v24H0V0z\" fill=\"none\"/>\n",
              "    <path d=\"M18.56 5.44l.94 2.06.94-2.06 2.06-.94-2.06-.94-.94-2.06-.94 2.06-2.06.94zm-11 1L8.5 8.5l.94-2.06 2.06-.94-2.06-.94L8.5 2.5l-.94 2.06-2.06.94zm10 10l.94 2.06.94-2.06 2.06-.94-2.06-.94-.94-2.06-.94 2.06-2.06.94z\"/><path d=\"M17.41 7.96l-1.37-1.37c-.4-.4-.92-.59-1.43-.59-.52 0-1.04.2-1.43.59L10.3 9.45l-7.72 7.72c-.78.78-.78 2.05 0 2.83L4 21.41c.39.39.9.59 1.41.59.51 0 1.02-.2 1.41-.59l7.78-7.78 2.81-2.81c.8-.78.8-2.07 0-2.86zM5.41 20L4 18.59l7.72-7.72 1.47 1.35L5.41 20z\"/>\n",
              "  </svg>\n",
              "      </button>\n",
              "      \n",
              "  <style>\n",
              "    .colab-df-container {\n",
              "      display:flex;\n",
              "      flex-wrap:wrap;\n",
              "      gap: 12px;\n",
              "    }\n",
              "\n",
              "    .colab-df-convert {\n",
              "      background-color: #E8F0FE;\n",
              "      border: none;\n",
              "      border-radius: 50%;\n",
              "      cursor: pointer;\n",
              "      display: none;\n",
              "      fill: #1967D2;\n",
              "      height: 32px;\n",
              "      padding: 0 0 0 0;\n",
              "      width: 32px;\n",
              "    }\n",
              "\n",
              "    .colab-df-convert:hover {\n",
              "      background-color: #E2EBFA;\n",
              "      box-shadow: 0px 1px 2px rgba(60, 64, 67, 0.3), 0px 1px 3px 1px rgba(60, 64, 67, 0.15);\n",
              "      fill: #174EA6;\n",
              "    }\n",
              "\n",
              "    [theme=dark] .colab-df-convert {\n",
              "      background-color: #3B4455;\n",
              "      fill: #D2E3FC;\n",
              "    }\n",
              "\n",
              "    [theme=dark] .colab-df-convert:hover {\n",
              "      background-color: #434B5C;\n",
              "      box-shadow: 0px 1px 3px 1px rgba(0, 0, 0, 0.15);\n",
              "      filter: drop-shadow(0px 1px 2px rgba(0, 0, 0, 0.3));\n",
              "      fill: #FFFFFF;\n",
              "    }\n",
              "  </style>\n",
              "\n",
              "      <script>\n",
              "        const buttonEl =\n",
              "          document.querySelector('#df-94786997-8ba2-403b-b908-15fa50fe3e8d button.colab-df-convert');\n",
              "        buttonEl.style.display =\n",
              "          google.colab.kernel.accessAllowed ? 'block' : 'none';\n",
              "\n",
              "        async function convertToInteractive(key) {\n",
              "          const element = document.querySelector('#df-94786997-8ba2-403b-b908-15fa50fe3e8d');\n",
              "          const dataTable =\n",
              "            await google.colab.kernel.invokeFunction('convertToInteractive',\n",
              "                                                     [key], {});\n",
              "          if (!dataTable) return;\n",
              "\n",
              "          const docLinkHtml = 'Like what you see? Visit the ' +\n",
              "            '<a target=\"_blank\" href=https://colab.research.google.com/notebooks/data_table.ipynb>data table notebook</a>'\n",
              "            + ' to learn more about interactive tables.';\n",
              "          element.innerHTML = '';\n",
              "          dataTable['output_type'] = 'display_data';\n",
              "          await google.colab.output.renderOutput(dataTable, element);\n",
              "          const docLink = document.createElement('div');\n",
              "          docLink.innerHTML = docLinkHtml;\n",
              "          element.appendChild(docLink);\n",
              "        }\n",
              "      </script>\n",
              "    </div>\n",
              "  </div>\n",
              "  "
            ],
            "text/plain": [
              "        Fecha Nro documento Estado movto.  Bodega     Item  \\\n",
              "0  12/16/2022  PED-01581905      Cumplido     1.0  41566.0   \n",
              "1  12/17/2022  PED-01582388      Cumplido     1.0  21071.0   \n",
              "2   12/5/2022  PED-01577604      Cumplido     1.0  43365.0   \n",
              "3   12/5/2022  PED-01577604      Cumplido     1.0  39491.0   \n",
              "4   12/6/2022  PED-01578213      Cumplido     1.0   7413.0   \n",
              "\n",
              "                                Desc. item CLASIFICACION VENTAS PESOS  \\\n",
              "0               SIKAFLEX FIX  GRIS  192480            0005 - E (100%)   \n",
              "1           PASADOR SUECO NGRO CT 3pg VERA            0005 - E (100%)   \n",
              "2  CARETA SOLDAR FOTOSENSIBLE WM40/2 FORTE             0003 - C (70%)   \n",
              "3    ZAPAPICO COLIMA CON CABO DE 5 LIBR  *             0004 - D (80%)   \n",
              "4    ASIENTO SANIT BASIC BONE X3 869713331             0001 - A (50%)   \n",
              "\n",
              "  CLASIFICACION ROTACION UNIDADES  U.M. Cant. pedida  ...  Depto Desc depto  \\\n",
              "0                 0005 - E (100%)  UND             1  ...    5.0  Antioquia   \n",
              "1                  0003 - C (70%)  C48             1  ...    5.0  Antioquia   \n",
              "2                 0005 - E (100%)  UND             2  ...    5.0  Antioquia   \n",
              "3                 0005 - E (100%)  UND             3  ...    5.0  Antioquia   \n",
              "4                 0005 - E (100%)  B3              2  ...    5.0  Antioquia   \n",
              "\n",
              "  Ciudad      Desc. ciudad Barrio Desc. Barrio Razón social cliente despacho  \\\n",
              "0   30.0       AMAGA (250)    NaN                                        NaN   \n",
              "1   31.0  AMALFI (250) S.L    NaN                                        NaN   \n",
              "2   31.0  AMALFI (250) S.L    NaN                                        NaN   \n",
              "3   31.0  AMALFI (250) S.L    NaN                                        NaN   \n",
              "4  266.0      ENVIGADO (0)    NaN                                        NaN   \n",
              "\n",
              "                                          Referencia  \\\n",
              "0                                             192480   \n",
              "1                                              21071   \n",
              "2  WM40/2 ED                                     ...   \n",
              "3                                           67520405   \n",
              "4                                          869713331   \n",
              "\n",
              "                    Direccion_2      Razon social cliente despacho 2  \n",
              "0  VEREDA EL MORRO VIA CAMILO C              CARROCERIAS AMAGA S A S  \n",
              "1                CL 19  19  075                BARRERA OCHOA ESTEBAN  \n",
              "2          CL   BOLIVAR  19  33  LOPERA RAMIREZ JESUS ALEJANDRO (PD)  \n",
              "3          CL   BOLIVAR  19  33  LOPERA RAMIREZ JESUS ALEJANDRO (PD)  \n",
              "4            CR  39  36  SUR 08         INVERSIONES FEDESQUINA S A S  \n",
              "\n",
              "[5 rows x 33 columns]"
            ]
          },
          "execution_count": 9,
          "metadata": {},
          "output_type": "execute_result"
        }
      ],
      "source": [
        "#Revisisón de las otras dos variables.\n",
        "df_2 = df[df['Direccion_2'].notnull() | df['Razon social cliente despacho 2'].notnull()]\n",
        "df_2.head()"
      ]
    },
    {
      "cell_type": "markdown",
      "metadata": {
        "id": "n-8jw41bSnpc"
      },
      "source": [
        "Al parece al concatenar la información la dirección y la razon social no coincidieron para unirse como se debía, sin embargo la dirección es un campo más para uso logístico y no para el analisis de la información es este caso"
      ]
    },
    {
      "cell_type": "code",
      "execution_count": 10,
      "metadata": {
        "id": "V-PlpU3wS5vg"
      },
      "outputs": [],
      "source": [
        "#Generar nueva variable para esta situacion:\n",
        "condition = [\n",
        "    (df['Razón social cliente despacho'].isnull())]\n",
        "choice = [df['Razon social cliente despacho 2']]\n",
        "df['Razon_social'] = np.select(condition, choice, default=df['Razón social cliente despacho'])"
      ]
    },
    {
      "cell_type": "code",
      "execution_count": 11,
      "metadata": {
        "id": "O3KdE7JZWmVU"
      },
      "outputs": [],
      "source": [
        "#Porcedemos a eliminar las vbles con nulos y nos quedamos con las que creamos\n",
        "\n",
        "#Borrar columna\n",
        "df.drop(['Dirección 1'], axis=1, inplace=True)\n",
        "df.drop(['Direccion_2'], axis=1, inplace=True)\n",
        "df.drop(['Razón social cliente despacho'], axis=1, inplace=True)\n",
        "df.drop(['Razon social cliente despacho 2'], axis=1, inplace=True)"
      ]
    },
    {
      "cell_type": "code",
      "execution_count": 12,
      "metadata": {
        "colab": {
          "base_uri": "https://localhost:8080/"
        },
        "id": "VDkT-fO9XPkQ",
        "outputId": "504ce20b-5fbd-4385-f5ed-dfeb3c946a94"
      },
      "outputs": [
        {
          "name": "stdout",
          "output_type": "stream",
          "text": [
            "<class 'pandas.core.frame.DataFrame'>\n",
            "Int64Index: 703236 entries, 0 to 26991\n",
            "Data columns (total 30 columns):\n",
            " #   Column                           Non-Null Count   Dtype  \n",
            "---  ------                           --------------   -----  \n",
            " 0   Fecha                            703236 non-null  object \n",
            " 1   Nro documento                    703221 non-null  object \n",
            " 2   Estado movto.                    703221 non-null  object \n",
            " 3   Bodega                           703221 non-null  float64\n",
            " 4   Item                             703221 non-null  float64\n",
            " 5   Desc. item                       703221 non-null  object \n",
            " 6   CLASIFICACION VENTAS PESOS       703221 non-null  object \n",
            " 7   CLASIFICACION ROTACION UNIDADES  703221 non-null  object \n",
            " 8   U.M.                             703221 non-null  object \n",
            " 9   Cant. pedida                     703221 non-null  object \n",
            " 10  Cant. comprom.                   703221 non-null  float64\n",
            " 11  Cant. factura                    703221 non-null  object \n",
            " 12  Desc. motivo                     703221 non-null  object \n",
            " 13  Vendedor                         703221 non-null  object \n",
            " 14  Nombre vendedor                  703221 non-null  object \n",
            " 15  Valor bruto                      703221 non-null  object \n",
            " 16  COMPRAS                          703221 non-null  object \n",
            " 17  MARCA                            703221 non-null  object \n",
            " 18  CATEGORIA                        703221 non-null  object \n",
            " 19  SUBCATEGORIA                     703221 non-null  object \n",
            " 20  PROVEEDOR CCIAL                  703221 non-null  object \n",
            " 21  FAMILIA-PRODUCTO                 703221 non-null  object \n",
            " 22  Depto                            703221 non-null  float64\n",
            " 23  Desc depto                       703221 non-null  object \n",
            " 24  Ciudad                           703221 non-null  float64\n",
            " 25  Desc. ciudad                     703221 non-null  object \n",
            " 26  Barrio                           294034 non-null  object \n",
            " 27  Desc. Barrio                     702729 non-null  object \n",
            " 28  Referencia                       703221 non-null  object \n",
            " 29  Razon_social                     703221 non-null  object \n",
            "dtypes: float64(5), object(25)\n",
            "memory usage: 166.3+ MB\n"
          ]
        }
      ],
      "source": [
        "df.info()"
      ]
    },
    {
      "cell_type": "markdown",
      "metadata": {
        "id": "6CEpstasMTUU"
      },
      "source": [
        "Se debe revisar el tipo de variable, sobretodo las númerica que se están cargando como de tipo objeto"
      ]
    },
    {
      "cell_type": "code",
      "execution_count": 13,
      "metadata": {
        "id": "VzwRXY5WJjdd"
      },
      "outputs": [],
      "source": [
        "df[\"Cant. pedida\"] = [float(str(i).replace(\",\", \"\")) for i in df[\"Cant. pedida\"]]\n",
        "df[\"Cant. factura\"] = [float(str(i).replace(\",\", \"\")) for i in df[\"Cant. factura\"]]\n",
        "df['Valor bruto'] = [float(str(i).replace(\",\", \"\").replace(\"$\", \"\")) for i in df['Valor bruto']]"
      ]
    },
    {
      "cell_type": "code",
      "execution_count": 14,
      "metadata": {
        "colab": {
          "base_uri": "https://localhost:8080/"
        },
        "id": "ZdJA-sgRXqfd",
        "outputId": "187fe91f-6d74-4f7c-aeee-0ddb4072b775"
      },
      "outputs": [
        {
          "name": "stdout",
          "output_type": "stream",
          "text": [
            "<class 'pandas.core.frame.DataFrame'>\n",
            "Int64Index: 703236 entries, 0 to 26991\n",
            "Data columns (total 30 columns):\n",
            " #   Column                           Non-Null Count   Dtype  \n",
            "---  ------                           --------------   -----  \n",
            " 0   Fecha                            703236 non-null  object \n",
            " 1   Nro documento                    703221 non-null  object \n",
            " 2   Estado movto.                    703221 non-null  object \n",
            " 3   Bodega                           703221 non-null  float64\n",
            " 4   Item                             703221 non-null  float64\n",
            " 5   Desc. item                       703221 non-null  object \n",
            " 6   CLASIFICACION VENTAS PESOS       703221 non-null  object \n",
            " 7   CLASIFICACION ROTACION UNIDADES  703221 non-null  object \n",
            " 8   U.M.                             703221 non-null  object \n",
            " 9   Cant. pedida                     703221 non-null  float64\n",
            " 10  Cant. comprom.                   703221 non-null  float64\n",
            " 11  Cant. factura                    703221 non-null  float64\n",
            " 12  Desc. motivo                     703221 non-null  object \n",
            " 13  Vendedor                         703221 non-null  object \n",
            " 14  Nombre vendedor                  703221 non-null  object \n",
            " 15  Valor bruto                      703221 non-null  float64\n",
            " 16  COMPRAS                          703221 non-null  object \n",
            " 17  MARCA                            703221 non-null  object \n",
            " 18  CATEGORIA                        703221 non-null  object \n",
            " 19  SUBCATEGORIA                     703221 non-null  object \n",
            " 20  PROVEEDOR CCIAL                  703221 non-null  object \n",
            " 21  FAMILIA-PRODUCTO                 703221 non-null  object \n",
            " 22  Depto                            703221 non-null  float64\n",
            " 23  Desc depto                       703221 non-null  object \n",
            " 24  Ciudad                           703221 non-null  float64\n",
            " 25  Desc. ciudad                     703221 non-null  object \n",
            " 26  Barrio                           294034 non-null  object \n",
            " 27  Desc. Barrio                     702729 non-null  object \n",
            " 28  Referencia                       703221 non-null  object \n",
            " 29  Razon_social                     703221 non-null  object \n",
            "dtypes: float64(8), object(22)\n",
            "memory usage: 166.3+ MB\n"
          ]
        }
      ],
      "source": [
        "df.info()"
      ]
    },
    {
      "cell_type": "markdown",
      "metadata": {
        "id": "sxhvDQxY7yJx"
      },
      "source": [
        "Revisión de variables que al parecer contienen la misma información."
      ]
    },
    {
      "cell_type": "code",
      "execution_count": 15,
      "metadata": {
        "colab": {
          "base_uri": "https://localhost:8080/",
          "height": 423
        },
        "id": "e8N0Nz5W7XZg",
        "outputId": "a3859252-5974-430a-9ad3-c1657d2ae9d9"
      },
      "outputs": [
        {
          "data": {
            "text/html": [
              "\n",
              "  <div id=\"df-e26c376e-e870-4482-ae99-7ba1009ecaf1\">\n",
              "    <div class=\"colab-df-container\">\n",
              "      <div>\n",
              "<style scoped>\n",
              "    .dataframe tbody tr th:only-of-type {\n",
              "        vertical-align: middle;\n",
              "    }\n",
              "\n",
              "    .dataframe tbody tr th {\n",
              "        vertical-align: top;\n",
              "    }\n",
              "\n",
              "    .dataframe thead th {\n",
              "        text-align: right;\n",
              "    }\n",
              "</style>\n",
              "<table border=\"1\" class=\"dataframe\">\n",
              "  <thead>\n",
              "    <tr style=\"text-align: right;\">\n",
              "      <th></th>\n",
              "      <th>Depto</th>\n",
              "      <th>Desc depto</th>\n",
              "      <th>Ciudad</th>\n",
              "      <th>Desc. ciudad</th>\n",
              "      <th>Barrio</th>\n",
              "      <th>Desc. Barrio</th>\n",
              "    </tr>\n",
              "  </thead>\n",
              "  <tbody>\n",
              "    <tr>\n",
              "      <th>0</th>\n",
              "      <td>15.0</td>\n",
              "      <td>Boyacá</td>\n",
              "      <td>238.0</td>\n",
              "      <td>DUITAMA (758) S.L</td>\n",
              "      <td>NaN</td>\n",
              "      <td></td>\n",
              "    </tr>\n",
              "    <tr>\n",
              "      <th>1</th>\n",
              "      <td>15.0</td>\n",
              "      <td>Boyacá</td>\n",
              "      <td>238.0</td>\n",
              "      <td>DUITAMA (758) S.L</td>\n",
              "      <td>NaN</td>\n",
              "      <td></td>\n",
              "    </tr>\n",
              "    <tr>\n",
              "      <th>2</th>\n",
              "      <td>15.0</td>\n",
              "      <td>Boyacá</td>\n",
              "      <td>238.0</td>\n",
              "      <td>DUITAMA (758) S.L</td>\n",
              "      <td>NaN</td>\n",
              "      <td></td>\n",
              "    </tr>\n",
              "    <tr>\n",
              "      <th>3</th>\n",
              "      <td>15.0</td>\n",
              "      <td>Boyacá</td>\n",
              "      <td>238.0</td>\n",
              "      <td>DUITAMA (758) S.L</td>\n",
              "      <td>NaN</td>\n",
              "      <td></td>\n",
              "    </tr>\n",
              "    <tr>\n",
              "      <th>4</th>\n",
              "      <td>15.0</td>\n",
              "      <td>Boyacá</td>\n",
              "      <td>238.0</td>\n",
              "      <td>DUITAMA (758) S.L</td>\n",
              "      <td>NaN</td>\n",
              "      <td></td>\n",
              "    </tr>\n",
              "    <tr>\n",
              "      <th>...</th>\n",
              "      <td>...</td>\n",
              "      <td>...</td>\n",
              "      <td>...</td>\n",
              "      <td>...</td>\n",
              "      <td>...</td>\n",
              "      <td>...</td>\n",
              "    </tr>\n",
              "    <tr>\n",
              "      <th>26987</th>\n",
              "      <td>25.0</td>\n",
              "      <td>Cundinamarca</td>\n",
              "      <td>269.0</td>\n",
              "      <td>FACATATIVA (385)s.l</td>\n",
              "      <td>CHICUAZA</td>\n",
              "      <td>CHICUAZA</td>\n",
              "    </tr>\n",
              "    <tr>\n",
              "      <th>26988</th>\n",
              "      <td>25.0</td>\n",
              "      <td>Cundinamarca</td>\n",
              "      <td>286.0</td>\n",
              "      <td>FUNZA (385)</td>\n",
              "      <td>NaN</td>\n",
              "      <td></td>\n",
              "    </tr>\n",
              "    <tr>\n",
              "      <th>26989</th>\n",
              "      <td>25.0</td>\n",
              "      <td>Cundinamarca</td>\n",
              "      <td>286.0</td>\n",
              "      <td>FUNZA (385)</td>\n",
              "      <td>NaN</td>\n",
              "      <td></td>\n",
              "    </tr>\n",
              "    <tr>\n",
              "      <th>26990</th>\n",
              "      <td>25.0</td>\n",
              "      <td>Cundinamarca</td>\n",
              "      <td>286.0</td>\n",
              "      <td>FUNZA (385)</td>\n",
              "      <td>NaN</td>\n",
              "      <td></td>\n",
              "    </tr>\n",
              "    <tr>\n",
              "      <th>26991</th>\n",
              "      <td>25.0</td>\n",
              "      <td>Cundinamarca</td>\n",
              "      <td>290.0</td>\n",
              "      <td>FUSAGASUGA (657)s.l</td>\n",
              "      <td>NaN</td>\n",
              "      <td></td>\n",
              "    </tr>\n",
              "  </tbody>\n",
              "</table>\n",
              "<p>703236 rows × 6 columns</p>\n",
              "</div>\n",
              "      <button class=\"colab-df-convert\" onclick=\"convertToInteractive('df-e26c376e-e870-4482-ae99-7ba1009ecaf1')\"\n",
              "              title=\"Convert this dataframe to an interactive table.\"\n",
              "              style=\"display:none;\">\n",
              "        \n",
              "  <svg xmlns=\"http://www.w3.org/2000/svg\" height=\"24px\"viewBox=\"0 0 24 24\"\n",
              "       width=\"24px\">\n",
              "    <path d=\"M0 0h24v24H0V0z\" fill=\"none\"/>\n",
              "    <path d=\"M18.56 5.44l.94 2.06.94-2.06 2.06-.94-2.06-.94-.94-2.06-.94 2.06-2.06.94zm-11 1L8.5 8.5l.94-2.06 2.06-.94-2.06-.94L8.5 2.5l-.94 2.06-2.06.94zm10 10l.94 2.06.94-2.06 2.06-.94-2.06-.94-.94-2.06-.94 2.06-2.06.94z\"/><path d=\"M17.41 7.96l-1.37-1.37c-.4-.4-.92-.59-1.43-.59-.52 0-1.04.2-1.43.59L10.3 9.45l-7.72 7.72c-.78.78-.78 2.05 0 2.83L4 21.41c.39.39.9.59 1.41.59.51 0 1.02-.2 1.41-.59l7.78-7.78 2.81-2.81c.8-.78.8-2.07 0-2.86zM5.41 20L4 18.59l7.72-7.72 1.47 1.35L5.41 20z\"/>\n",
              "  </svg>\n",
              "      </button>\n",
              "      \n",
              "  <style>\n",
              "    .colab-df-container {\n",
              "      display:flex;\n",
              "      flex-wrap:wrap;\n",
              "      gap: 12px;\n",
              "    }\n",
              "\n",
              "    .colab-df-convert {\n",
              "      background-color: #E8F0FE;\n",
              "      border: none;\n",
              "      border-radius: 50%;\n",
              "      cursor: pointer;\n",
              "      display: none;\n",
              "      fill: #1967D2;\n",
              "      height: 32px;\n",
              "      padding: 0 0 0 0;\n",
              "      width: 32px;\n",
              "    }\n",
              "\n",
              "    .colab-df-convert:hover {\n",
              "      background-color: #E2EBFA;\n",
              "      box-shadow: 0px 1px 2px rgba(60, 64, 67, 0.3), 0px 1px 3px 1px rgba(60, 64, 67, 0.15);\n",
              "      fill: #174EA6;\n",
              "    }\n",
              "\n",
              "    [theme=dark] .colab-df-convert {\n",
              "      background-color: #3B4455;\n",
              "      fill: #D2E3FC;\n",
              "    }\n",
              "\n",
              "    [theme=dark] .colab-df-convert:hover {\n",
              "      background-color: #434B5C;\n",
              "      box-shadow: 0px 1px 3px 1px rgba(0, 0, 0, 0.15);\n",
              "      filter: drop-shadow(0px 1px 2px rgba(0, 0, 0, 0.3));\n",
              "      fill: #FFFFFF;\n",
              "    }\n",
              "  </style>\n",
              "\n",
              "      <script>\n",
              "        const buttonEl =\n",
              "          document.querySelector('#df-e26c376e-e870-4482-ae99-7ba1009ecaf1 button.colab-df-convert');\n",
              "        buttonEl.style.display =\n",
              "          google.colab.kernel.accessAllowed ? 'block' : 'none';\n",
              "\n",
              "        async function convertToInteractive(key) {\n",
              "          const element = document.querySelector('#df-e26c376e-e870-4482-ae99-7ba1009ecaf1');\n",
              "          const dataTable =\n",
              "            await google.colab.kernel.invokeFunction('convertToInteractive',\n",
              "                                                     [key], {});\n",
              "          if (!dataTable) return;\n",
              "\n",
              "          const docLinkHtml = 'Like what you see? Visit the ' +\n",
              "            '<a target=\"_blank\" href=https://colab.research.google.com/notebooks/data_table.ipynb>data table notebook</a>'\n",
              "            + ' to learn more about interactive tables.';\n",
              "          element.innerHTML = '';\n",
              "          dataTable['output_type'] = 'display_data';\n",
              "          await google.colab.output.renderOutput(dataTable, element);\n",
              "          const docLink = document.createElement('div');\n",
              "          docLink.innerHTML = docLinkHtml;\n",
              "          element.appendChild(docLink);\n",
              "        }\n",
              "      </script>\n",
              "    </div>\n",
              "  </div>\n",
              "  "
            ],
            "text/plain": [
              "       Depto    Desc depto  Ciudad         Desc. ciudad    Barrio Desc. Barrio\n",
              "0       15.0        Boyacá   238.0    DUITAMA (758) S.L       NaN             \n",
              "1       15.0        Boyacá   238.0    DUITAMA (758) S.L       NaN             \n",
              "2       15.0        Boyacá   238.0    DUITAMA (758) S.L       NaN             \n",
              "3       15.0        Boyacá   238.0    DUITAMA (758) S.L       NaN             \n",
              "4       15.0        Boyacá   238.0    DUITAMA (758) S.L       NaN             \n",
              "...      ...           ...     ...                  ...       ...          ...\n",
              "26987   25.0  Cundinamarca   269.0  FACATATIVA (385)s.l  CHICUAZA     CHICUAZA\n",
              "26988   25.0  Cundinamarca   286.0          FUNZA (385)       NaN             \n",
              "26989   25.0  Cundinamarca   286.0          FUNZA (385)       NaN             \n",
              "26990   25.0  Cundinamarca   286.0          FUNZA (385)       NaN             \n",
              "26991   25.0  Cundinamarca   290.0  FUSAGASUGA (657)s.l       NaN             \n",
              "\n",
              "[703236 rows x 6 columns]"
            ]
          },
          "metadata": {},
          "output_type": "display_data"
        }
      ],
      "source": [
        "df_2 = df[['Depto','Desc depto','Ciudad','Desc. ciudad','Barrio','Desc. Barrio']]\n",
        "display(df_2)"
      ]
    },
    {
      "cell_type": "markdown",
      "metadata": {
        "id": "ib-vDYmb8ZZz"
      },
      "source": [
        "Efectivemente se ecnuntra que una es la identificación númerica y la otra es la des, nos quedaremos con la id para evitar errores de digitación o caracteres extraños"
      ]
    },
    {
      "cell_type": "code",
      "execution_count": 16,
      "metadata": {
        "id": "2O714Yk68ADr"
      },
      "outputs": [],
      "source": [
        "#Borrar duplicidad de información\n",
        "df.drop(['Desc depto'], axis=1, inplace=True)\n",
        "df.drop(['Desc. ciudad'], axis=1, inplace=True)\n",
        "df.drop(['Desc. Barrio'], axis=1, inplace=True)"
      ]
    },
    {
      "cell_type": "markdown",
      "metadata": {
        "id": "7D3e6dUvZL5Y"
      },
      "source": [
        "Ahora que tenemos una base de datos más limpia, vamos a filtrar por los ítems que son importados que son los cuales presentan una mayor problematica para la epresa, sin embargo esta información no está en los  datos de pedidos por lo tanto debemos unirlo con el maestro de ítems."
      ]
    },
    {
      "cell_type": "code",
      "execution_count": 17,
      "metadata": {
        "id": "xEwUNslVYwhz"
      },
      "outputs": [],
      "source": [
        "maestro = pd.read_csv(\"/content/drive/MyDrive/content/B_D/Maestro.csv\", encoding='latin-1')"
      ]
    },
    {
      "cell_type": "code",
      "execution_count": 18,
      "metadata": {
        "id": "CRBf3Lc1ZDiU"
      },
      "outputs": [],
      "source": [
        "df = df.merge(maestro, on=\"Item\", how='inner')"
      ]
    },
    {
      "cell_type": "code",
      "execution_count": 19,
      "metadata": {
        "colab": {
          "base_uri": "https://localhost:8080/",
          "height": 855
        },
        "id": "XnaamImuZt9F",
        "outputId": "6cc40bb2-0fcd-4205-968b-799271c5549b"
      },
      "outputs": [
        {
          "data": {
            "text/html": [
              "\n",
              "  <div id=\"df-c6fdc444-9553-471f-9454-ecefe674a332\">\n",
              "    <div class=\"colab-df-container\">\n",
              "      <div>\n",
              "<style scoped>\n",
              "    .dataframe tbody tr th:only-of-type {\n",
              "        vertical-align: middle;\n",
              "    }\n",
              "\n",
              "    .dataframe tbody tr th {\n",
              "        vertical-align: top;\n",
              "    }\n",
              "\n",
              "    .dataframe thead th {\n",
              "        text-align: right;\n",
              "    }\n",
              "</style>\n",
              "<table border=\"1\" class=\"dataframe\">\n",
              "  <thead>\n",
              "    <tr style=\"text-align: right;\">\n",
              "      <th></th>\n",
              "      <th>Fecha</th>\n",
              "      <th>Nro documento</th>\n",
              "      <th>Estado movto.</th>\n",
              "      <th>Bodega</th>\n",
              "      <th>Item</th>\n",
              "      <th>Desc. item</th>\n",
              "      <th>CLASIFICACION VENTAS PESOS</th>\n",
              "      <th>CLASIFICACION ROTACION UNIDADES</th>\n",
              "      <th>U.M.</th>\n",
              "      <th>Cant. pedida</th>\n",
              "      <th>...</th>\n",
              "      <th>FAMILIA-PRODUCTO</th>\n",
              "      <th>Depto</th>\n",
              "      <th>Ciudad</th>\n",
              "      <th>Barrio</th>\n",
              "      <th>Referencia</th>\n",
              "      <th>Razon_social</th>\n",
              "      <th>ORIGEN PROVEEDOR</th>\n",
              "      <th>PROVEEDOR CCIAL_y</th>\n",
              "      <th>Estado</th>\n",
              "      <th>COMPRAS_y</th>\n",
              "    </tr>\n",
              "  </thead>\n",
              "  <tbody>\n",
              "    <tr>\n",
              "      <th>0</th>\n",
              "      <td>07/19/2022</td>\n",
              "      <td>PED-01521420</td>\n",
              "      <td>Cumplido</td>\n",
              "      <td>1.0</td>\n",
              "      <td>43071.0</td>\n",
              "      <td>TOMA DOBLE T/AMER BLANCO FORTE A10-105/2</td>\n",
              "      <td>0002 - B (60%)</td>\n",
              "      <td>0002 - B (60%)</td>\n",
              "      <td>UND</td>\n",
              "      <td>2.0</td>\n",
              "      <td>...</td>\n",
              "      <td>3051 - TOMACORRIENTES DE INCRUSTAR CON POLO TIE</td>\n",
              "      <td>15.0</td>\n",
              "      <td>238.0</td>\n",
              "      <td>NaN</td>\n",
              "      <td>A10-105/2                                     ...</td>\n",
              "      <td>SOLANO HOLGUIN EDWIN HERNAN</td>\n",
              "      <td>0002 - IMPORTADO</td>\n",
              "      <td>0062 - FORTE</td>\n",
              "      <td>Activo</td>\n",
              "      <td>0001 - SI</td>\n",
              "    </tr>\n",
              "    <tr>\n",
              "      <th>1</th>\n",
              "      <td>07/13/2022</td>\n",
              "      <td>PED-01519086</td>\n",
              "      <td>Cumplido</td>\n",
              "      <td>1.0</td>\n",
              "      <td>43071.0</td>\n",
              "      <td>TOMA DOBLE T/AMER BLANCO FORTE A10-105/2</td>\n",
              "      <td>0002 - B (60%)</td>\n",
              "      <td>0002 - B (60%)</td>\n",
              "      <td>C100</td>\n",
              "      <td>5.0</td>\n",
              "      <td>...</td>\n",
              "      <td>3051 - TOMACORRIENTES DE INCRUSTAR CON POLO TIE</td>\n",
              "      <td>19.0</td>\n",
              "      <td>532.0</td>\n",
              "      <td>NaN</td>\n",
              "      <td>A10-105/2                                     ...</td>\n",
              "      <td>MILMUGA PATIA S A S ZOMAC</td>\n",
              "      <td>0002 - IMPORTADO</td>\n",
              "      <td>0062 - FORTE</td>\n",
              "      <td>Activo</td>\n",
              "      <td>0001 - SI</td>\n",
              "    </tr>\n",
              "    <tr>\n",
              "      <th>2</th>\n",
              "      <td>07/15/2022</td>\n",
              "      <td>PED-01520114</td>\n",
              "      <td>Cumplido</td>\n",
              "      <td>1.0</td>\n",
              "      <td>43071.0</td>\n",
              "      <td>TOMA DOBLE T/AMER BLANCO FORTE A10-105/2</td>\n",
              "      <td>0002 - B (60%)</td>\n",
              "      <td>0002 - B (60%)</td>\n",
              "      <td>C100</td>\n",
              "      <td>1.0</td>\n",
              "      <td>...</td>\n",
              "      <td>3051 - TOMACORRIENTES DE INCRUSTAR CON POLO TIE</td>\n",
              "      <td>13.0</td>\n",
              "      <td>1.0</td>\n",
              "      <td>ALBORNOZ</td>\n",
              "      <td>A10-105/2                                     ...</td>\n",
              "      <td>FERR SANTA CATALINA S A S</td>\n",
              "      <td>0002 - IMPORTADO</td>\n",
              "      <td>0062 - FORTE</td>\n",
              "      <td>Activo</td>\n",
              "      <td>0001 - SI</td>\n",
              "    </tr>\n",
              "    <tr>\n",
              "      <th>3</th>\n",
              "      <td>07/18/2022</td>\n",
              "      <td>PED-01521335</td>\n",
              "      <td>Cumplido</td>\n",
              "      <td>1.0</td>\n",
              "      <td>43071.0</td>\n",
              "      <td>TOMA DOBLE T/AMER BLANCO FORTE A10-105/2</td>\n",
              "      <td>0002 - B (60%)</td>\n",
              "      <td>0002 - B (60%)</td>\n",
              "      <td>C10</td>\n",
              "      <td>3.0</td>\n",
              "      <td>...</td>\n",
              "      <td>3051 - TOMACORRIENTES DE INCRUSTAR CON POLO TIE</td>\n",
              "      <td>5.0</td>\n",
              "      <td>837.0</td>\n",
              "      <td>PARQUE PRINCIPAL</td>\n",
              "      <td>A10-105/2                                     ...</td>\n",
              "      <td>MARTINEZ TERAN JAVIER ALBEIRO</td>\n",
              "      <td>0002 - IMPORTADO</td>\n",
              "      <td>0062 - FORTE</td>\n",
              "      <td>Activo</td>\n",
              "      <td>0001 - SI</td>\n",
              "    </tr>\n",
              "    <tr>\n",
              "      <th>4</th>\n",
              "      <td>07/04/2022</td>\n",
              "      <td>PED-01515540</td>\n",
              "      <td>Cumplido</td>\n",
              "      <td>1.0</td>\n",
              "      <td>43071.0</td>\n",
              "      <td>TOMA DOBLE T/AMER BLANCO FORTE A10-105/2</td>\n",
              "      <td>0002 - B (60%)</td>\n",
              "      <td>0002 - B (60%)</td>\n",
              "      <td>UND</td>\n",
              "      <td>20.0</td>\n",
              "      <td>...</td>\n",
              "      <td>3051 - TOMACORRIENTES DE INCRUSTAR CON POLO TIE</td>\n",
              "      <td>5.0</td>\n",
              "      <td>1.0</td>\n",
              "      <td>CENTRO</td>\n",
              "      <td>A10-105/2                                     ...</td>\n",
              "      <td>PROMOTORA DE FERRETERIAS DEL MUEBLE S.A.S</td>\n",
              "      <td>0002 - IMPORTADO</td>\n",
              "      <td>0062 - FORTE</td>\n",
              "      <td>Activo</td>\n",
              "      <td>0001 - SI</td>\n",
              "    </tr>\n",
              "  </tbody>\n",
              "</table>\n",
              "<p>5 rows × 31 columns</p>\n",
              "</div>\n",
              "      <button class=\"colab-df-convert\" onclick=\"convertToInteractive('df-c6fdc444-9553-471f-9454-ecefe674a332')\"\n",
              "              title=\"Convert this dataframe to an interactive table.\"\n",
              "              style=\"display:none;\">\n",
              "        \n",
              "  <svg xmlns=\"http://www.w3.org/2000/svg\" height=\"24px\"viewBox=\"0 0 24 24\"\n",
              "       width=\"24px\">\n",
              "    <path d=\"M0 0h24v24H0V0z\" fill=\"none\"/>\n",
              "    <path d=\"M18.56 5.44l.94 2.06.94-2.06 2.06-.94-2.06-.94-.94-2.06-.94 2.06-2.06.94zm-11 1L8.5 8.5l.94-2.06 2.06-.94-2.06-.94L8.5 2.5l-.94 2.06-2.06.94zm10 10l.94 2.06.94-2.06 2.06-.94-2.06-.94-.94-2.06-.94 2.06-2.06.94z\"/><path d=\"M17.41 7.96l-1.37-1.37c-.4-.4-.92-.59-1.43-.59-.52 0-1.04.2-1.43.59L10.3 9.45l-7.72 7.72c-.78.78-.78 2.05 0 2.83L4 21.41c.39.39.9.59 1.41.59.51 0 1.02-.2 1.41-.59l7.78-7.78 2.81-2.81c.8-.78.8-2.07 0-2.86zM5.41 20L4 18.59l7.72-7.72 1.47 1.35L5.41 20z\"/>\n",
              "  </svg>\n",
              "      </button>\n",
              "      \n",
              "  <style>\n",
              "    .colab-df-container {\n",
              "      display:flex;\n",
              "      flex-wrap:wrap;\n",
              "      gap: 12px;\n",
              "    }\n",
              "\n",
              "    .colab-df-convert {\n",
              "      background-color: #E8F0FE;\n",
              "      border: none;\n",
              "      border-radius: 50%;\n",
              "      cursor: pointer;\n",
              "      display: none;\n",
              "      fill: #1967D2;\n",
              "      height: 32px;\n",
              "      padding: 0 0 0 0;\n",
              "      width: 32px;\n",
              "    }\n",
              "\n",
              "    .colab-df-convert:hover {\n",
              "      background-color: #E2EBFA;\n",
              "      box-shadow: 0px 1px 2px rgba(60, 64, 67, 0.3), 0px 1px 3px 1px rgba(60, 64, 67, 0.15);\n",
              "      fill: #174EA6;\n",
              "    }\n",
              "\n",
              "    [theme=dark] .colab-df-convert {\n",
              "      background-color: #3B4455;\n",
              "      fill: #D2E3FC;\n",
              "    }\n",
              "\n",
              "    [theme=dark] .colab-df-convert:hover {\n",
              "      background-color: #434B5C;\n",
              "      box-shadow: 0px 1px 3px 1px rgba(0, 0, 0, 0.15);\n",
              "      filter: drop-shadow(0px 1px 2px rgba(0, 0, 0, 0.3));\n",
              "      fill: #FFFFFF;\n",
              "    }\n",
              "  </style>\n",
              "\n",
              "      <script>\n",
              "        const buttonEl =\n",
              "          document.querySelector('#df-c6fdc444-9553-471f-9454-ecefe674a332 button.colab-df-convert');\n",
              "        buttonEl.style.display =\n",
              "          google.colab.kernel.accessAllowed ? 'block' : 'none';\n",
              "\n",
              "        async function convertToInteractive(key) {\n",
              "          const element = document.querySelector('#df-c6fdc444-9553-471f-9454-ecefe674a332');\n",
              "          const dataTable =\n",
              "            await google.colab.kernel.invokeFunction('convertToInteractive',\n",
              "                                                     [key], {});\n",
              "          if (!dataTable) return;\n",
              "\n",
              "          const docLinkHtml = 'Like what you see? Visit the ' +\n",
              "            '<a target=\"_blank\" href=https://colab.research.google.com/notebooks/data_table.ipynb>data table notebook</a>'\n",
              "            + ' to learn more about interactive tables.';\n",
              "          element.innerHTML = '';\n",
              "          dataTable['output_type'] = 'display_data';\n",
              "          await google.colab.output.renderOutput(dataTable, element);\n",
              "          const docLink = document.createElement('div');\n",
              "          docLink.innerHTML = docLinkHtml;\n",
              "          element.appendChild(docLink);\n",
              "        }\n",
              "      </script>\n",
              "    </div>\n",
              "  </div>\n",
              "  "
            ],
            "text/plain": [
              "        Fecha Nro documento Estado movto.  Bodega     Item  \\\n",
              "0  07/19/2022  PED-01521420      Cumplido     1.0  43071.0   \n",
              "1  07/13/2022  PED-01519086      Cumplido     1.0  43071.0   \n",
              "2  07/15/2022  PED-01520114      Cumplido     1.0  43071.0   \n",
              "3  07/18/2022  PED-01521335      Cumplido     1.0  43071.0   \n",
              "4  07/04/2022  PED-01515540      Cumplido     1.0  43071.0   \n",
              "\n",
              "                                 Desc. item CLASIFICACION VENTAS PESOS  \\\n",
              "0  TOMA DOBLE T/AMER BLANCO FORTE A10-105/2             0002 - B (60%)   \n",
              "1  TOMA DOBLE T/AMER BLANCO FORTE A10-105/2             0002 - B (60%)   \n",
              "2  TOMA DOBLE T/AMER BLANCO FORTE A10-105/2             0002 - B (60%)   \n",
              "3  TOMA DOBLE T/AMER BLANCO FORTE A10-105/2             0002 - B (60%)   \n",
              "4  TOMA DOBLE T/AMER BLANCO FORTE A10-105/2             0002 - B (60%)   \n",
              "\n",
              "  CLASIFICACION ROTACION UNIDADES  U.M.  Cant. pedida  ...  \\\n",
              "0                  0002 - B (60%)  UND            2.0  ...   \n",
              "1                  0002 - B (60%)  C100           5.0  ...   \n",
              "2                  0002 - B (60%)  C100           1.0  ...   \n",
              "3                  0002 - B (60%)  C10            3.0  ...   \n",
              "4                  0002 - B (60%)  UND           20.0  ...   \n",
              "\n",
              "                                  FAMILIA-PRODUCTO  Depto Ciudad  \\\n",
              "0  3051 - TOMACORRIENTES DE INCRUSTAR CON POLO TIE   15.0  238.0   \n",
              "1  3051 - TOMACORRIENTES DE INCRUSTAR CON POLO TIE   19.0  532.0   \n",
              "2  3051 - TOMACORRIENTES DE INCRUSTAR CON POLO TIE   13.0    1.0   \n",
              "3  3051 - TOMACORRIENTES DE INCRUSTAR CON POLO TIE    5.0  837.0   \n",
              "4  3051 - TOMACORRIENTES DE INCRUSTAR CON POLO TIE    5.0    1.0   \n",
              "\n",
              "             Barrio                                         Referencia  \\\n",
              "0               NaN  A10-105/2                                     ...   \n",
              "1               NaN  A10-105/2                                     ...   \n",
              "2          ALBORNOZ  A10-105/2                                     ...   \n",
              "3  PARQUE PRINCIPAL  A10-105/2                                     ...   \n",
              "4            CENTRO  A10-105/2                                     ...   \n",
              "\n",
              "                                Razon_social  ORIGEN PROVEEDOR  \\\n",
              "0                SOLANO HOLGUIN EDWIN HERNAN  0002 - IMPORTADO   \n",
              "1                  MILMUGA PATIA S A S ZOMAC  0002 - IMPORTADO   \n",
              "2                  FERR SANTA CATALINA S A S  0002 - IMPORTADO   \n",
              "3              MARTINEZ TERAN JAVIER ALBEIRO  0002 - IMPORTADO   \n",
              "4  PROMOTORA DE FERRETERIAS DEL MUEBLE S.A.S  0002 - IMPORTADO   \n",
              "\n",
              "  PROVEEDOR CCIAL_y  Estado  COMPRAS_y  \n",
              "0      0062 - FORTE  Activo  0001 - SI  \n",
              "1      0062 - FORTE  Activo  0001 - SI  \n",
              "2      0062 - FORTE  Activo  0001 - SI  \n",
              "3      0062 - FORTE  Activo  0001 - SI  \n",
              "4      0062 - FORTE  Activo  0001 - SI  \n",
              "\n",
              "[5 rows x 31 columns]"
            ]
          },
          "execution_count": 19,
          "metadata": {},
          "output_type": "execute_result"
        }
      ],
      "source": [
        "df.head()"
      ]
    },
    {
      "cell_type": "code",
      "execution_count": 20,
      "metadata": {
        "id": "FXLGhxreYop2"
      },
      "outputs": [],
      "source": [
        "#Se agregaron dos columnas que ya estbana dentro del dataset entonces se procede a borrarlas\n",
        "df.drop(['PROVEEDOR CCIAL_y'], axis=1, inplace=True)\n",
        "df.drop(['COMPRAS_y'], axis=1, inplace=True)"
      ]
    },
    {
      "cell_type": "markdown",
      "metadata": {
        "id": "jY5zREF8Y-5N"
      },
      "source": [
        "Nos quedaremos entonces con los pedidos de ítem que son importados por la empresa y que además estén activos porque no tienen sentido hacer un estudio sobre ítems que ya no se encuntran en el portafolio."
      ]
    },
    {
      "cell_type": "code",
      "execution_count": 21,
      "metadata": {
        "colab": {
          "base_uri": "https://localhost:8080/"
        },
        "id": "u3qQCtddZSvE",
        "outputId": "a0cf0b33-f601-43af-fd6a-551bac8ed216"
      },
      "outputs": [
        {
          "data": {
            "text/plain": [
              "['0002 - IMPORTADO', '0001 - NACIONAL']"
            ]
          },
          "execution_count": 21,
          "metadata": {},
          "output_type": "execute_result"
        }
      ],
      "source": [
        "df['ORIGEN PROVEEDOR'].unique().tolist()"
      ]
    },
    {
      "cell_type": "code",
      "execution_count": 22,
      "metadata": {
        "id": "CgrA7o99bEAH"
      },
      "outputs": [],
      "source": [
        "#Borrar registros\n",
        "df.drop(df[df['Estado'] == 'Bloqueado'].index, inplace = True)\n",
        "df.drop(df[df['ORIGEN PROVEEDOR'] != '0002 - IMPORTADO'].index, inplace = True)"
      ]
    },
    {
      "cell_type": "code",
      "execution_count": 23,
      "metadata": {
        "colab": {
          "base_uri": "https://localhost:8080/"
        },
        "id": "LdnpFAbNZ_f9",
        "outputId": "6c074e94-09af-4e41-c59a-9624b7089beb"
      },
      "outputs": [
        {
          "data": {
            "text/plain": [
              "(223528, 29)"
            ]
          },
          "execution_count": 23,
          "metadata": {},
          "output_type": "execute_result"
        }
      ],
      "source": [
        "df.shape"
      ]
    },
    {
      "cell_type": "markdown",
      "metadata": {
        "id": "Wlym5nol_WKU"
      },
      "source": [
        "Dentro de la regla de negocio, no se deben tener en cuenta los pedidos anulados, en elaboración, retenidos o nan ya que estos pedidos no llegaron a hacer nunca una demanda formal y no se gestionaron, se deben eliminar esos registros."
      ]
    },
    {
      "cell_type": "code",
      "execution_count": 24,
      "metadata": {
        "colab": {
          "base_uri": "https://localhost:8080/"
        },
        "id": "CVSe58Ve71Fv",
        "outputId": "6e6afc62-764a-46da-95d4-d09e0694d83f"
      },
      "outputs": [
        {
          "data": {
            "text/plain": [
              "['Cumplido',\n",
              " 'Anulado',\n",
              " 'Aprobado',\n",
              " 'En elaboración',\n",
              " 'En elaboraciÃ³n',\n",
              " 'Comprometido']"
            ]
          },
          "execution_count": 24,
          "metadata": {},
          "output_type": "execute_result"
        }
      ],
      "source": [
        "df['Estado movto.'].unique().tolist()"
      ]
    },
    {
      "cell_type": "code",
      "execution_count": 25,
      "metadata": {
        "id": "b7XLjeqZBNtA"
      },
      "outputs": [],
      "source": [
        "#Borrar registros\n",
        "df.drop(df[(df['Estado movto.'] == 'Anulado') | (df['Estado movto.'] == 'En elaboración') | (df['Estado movto.'] == 'En elaboraciÃ³n') | (df['Estado movto.'] == 'Retenido')].index, inplace=True)"
      ]
    },
    {
      "cell_type": "code",
      "execution_count": 26,
      "metadata": {
        "colab": {
          "base_uri": "https://localhost:8080/"
        },
        "id": "TKUpHCd6nQa7",
        "outputId": "493c6a64-089c-4093-b668-06e8cc30858e"
      },
      "outputs": [
        {
          "data": {
            "text/plain": [
              "(222006, 29)"
            ]
          },
          "execution_count": 26,
          "metadata": {},
          "output_type": "execute_result"
        }
      ],
      "source": [
        "df.shape"
      ]
    },
    {
      "cell_type": "code",
      "execution_count": 27,
      "metadata": {
        "colab": {
          "base_uri": "https://localhost:8080/"
        },
        "id": "eJrqVud2madz",
        "outputId": "0708eb51-965c-4f79-ffad-2172260042cb"
      },
      "outputs": [
        {
          "name": "stdout",
          "output_type": "stream",
          "text": [
            "<class 'pandas.core.frame.DataFrame'>\n",
            "Int64Index: 222006 entries, 0 to 703219\n",
            "Data columns (total 29 columns):\n",
            " #   Column                           Non-Null Count   Dtype  \n",
            "---  ------                           --------------   -----  \n",
            " 0   Fecha                            222006 non-null  object \n",
            " 1   Nro documento                    222006 non-null  object \n",
            " 2   Estado movto.                    222006 non-null  object \n",
            " 3   Bodega                           222006 non-null  float64\n",
            " 4   Item                             222006 non-null  float64\n",
            " 5   Desc. item                       222006 non-null  object \n",
            " 6   CLASIFICACION VENTAS PESOS       222006 non-null  object \n",
            " 7   CLASIFICACION ROTACION UNIDADES  222006 non-null  object \n",
            " 8   U.M.                             222006 non-null  object \n",
            " 9   Cant. pedida                     222006 non-null  float64\n",
            " 10  Cant. comprom.                   222006 non-null  float64\n",
            " 11  Cant. factura                    222006 non-null  float64\n",
            " 12  Desc. motivo                     222006 non-null  object \n",
            " 13  Vendedor                         222006 non-null  object \n",
            " 14  Nombre vendedor                  222006 non-null  object \n",
            " 15  Valor bruto                      222006 non-null  float64\n",
            " 16  COMPRAS_x                        222006 non-null  object \n",
            " 17  MARCA                            222006 non-null  object \n",
            " 18  CATEGORIA                        222006 non-null  object \n",
            " 19  SUBCATEGORIA                     222006 non-null  object \n",
            " 20  PROVEEDOR CCIAL_x                222006 non-null  object \n",
            " 21  FAMILIA-PRODUCTO                 222006 non-null  object \n",
            " 22  Depto                            222006 non-null  float64\n",
            " 23  Ciudad                           222006 non-null  float64\n",
            " 24  Barrio                           91221 non-null   object \n",
            " 25  Referencia                       222006 non-null  object \n",
            " 26  Razon_social                     222006 non-null  object \n",
            " 27  ORIGEN PROVEEDOR                 222006 non-null  object \n",
            " 28  Estado                           222006 non-null  object \n",
            "dtypes: float64(8), object(21)\n",
            "memory usage: 50.8+ MB\n"
          ]
        }
      ],
      "source": [
        "df.info()"
      ]
    },
    {
      "cell_type": "markdown",
      "metadata": {
        "id": "u-DW-utZjNh7"
      },
      "source": [
        "Se observa presencia de datos nulos"
      ]
    },
    {
      "cell_type": "code",
      "execution_count": 28,
      "metadata": {
        "id": "Z_qpJzF_MWms"
      },
      "outputs": [],
      "source": [
        "# Reemplazamos los datos faltantes por datos NaN o nulos\n",
        "df = df.replace(\" \",np.nan)\n",
        "df = df.replace(\"\",np.nan) \n",
        "df = df.replace(\"?\",np.nan) "
      ]
    },
    {
      "cell_type": "code",
      "execution_count": 29,
      "metadata": {
        "colab": {
          "base_uri": "https://localhost:8080/",
          "height": 145
        },
        "id": "mYpdfpkUEv9m",
        "outputId": "cf2f2f20-cb07-4436-b94b-1d7e299aba6d"
      },
      "outputs": [
        {
          "data": {
            "text/plain": [
              "array([[ True],\n",
              "       [ True],\n",
              "       [False],\n",
              "       ...,\n",
              "       [ True],\n",
              "       [ True],\n",
              "       [ True]])"
            ]
          },
          "metadata": {},
          "output_type": "display_data"
        }
      ],
      "source": [
        "Indicador = MissingIndicator(missing_values = np.nan) # Decimos que datos debe buscar como datos faltantes\n",
        "Indicador.fit(df) # Aplicamos el método de búsqueda con nuestra base de datos\n",
        "Datos_Indicador = Indicador.transform(df) # Realizamos una transformación Booleana de los datos para identificar los datos faltantes (True)\n",
        "                                             # y los datos no faltantes (False)\n",
        "display(Datos_Indicador) # Mostramos los resultados de la búsqueda de los datos faltantes y no faltantes"
      ]
    },
    {
      "cell_type": "code",
      "execution_count": 30,
      "metadata": {
        "colab": {
          "base_uri": "https://localhost:8080/"
        },
        "id": "RdPQQf5cE_ZG",
        "outputId": "bb23fa1a-1d60-4142-fd4a-13dba22796b0"
      },
      "outputs": [
        {
          "name": "stdout",
          "output_type": "stream",
          "text": [
            "Características donde hay datos faltantes:  [24]\n"
          ]
        }
      ],
      "source": [
        "print(\"Características donde hay datos faltantes: \", Indicador.features_)"
      ]
    },
    {
      "cell_type": "code",
      "execution_count": 31,
      "metadata": {
        "colab": {
          "base_uri": "https://localhost:8080/"
        },
        "id": "vhWCDzQMFDY9",
        "outputId": "0fcb9782-571b-42aa-b79e-8527e52b08b6"
      },
      "outputs": [
        {
          "name": "stdout",
          "output_type": "stream",
          "text": [
            "Porcentaje de Datos Faltantes (%):  58.91056998459501\n"
          ]
        }
      ],
      "source": [
        "POS = np.where(Datos_Indicador == True) # Se busca aquellos datos que tiene un valor Booleanos igual a True\n",
        "print(\"Porcentaje de Datos Faltantes (%): \", 100*(len(POS[0])/(Datos_Indicador.shape[0]*Datos_Indicador.shape[1])))"
      ]
    },
    {
      "cell_type": "markdown",
      "metadata": {
        "id": "2uPr6I7CSxlX"
      },
      "source": [
        "Es un porcentaje de datos nulos muy alto, no podemos simplemente eliminar todos estos registros, vamos a revisar puntualmente"
      ]
    },
    {
      "cell_type": "code",
      "execution_count": 32,
      "metadata": {
        "colab": {
          "base_uri": "https://localhost:8080/"
        },
        "id": "cRb41KALRXZc",
        "outputId": "3ed5cd69-e04d-4ac9-8ef5-164eaa43832e"
      },
      "outputs": [
        {
          "data": {
            "text/plain": [
              "(130785, 29)"
            ]
          },
          "execution_count": 32,
          "metadata": {},
          "output_type": "execute_result"
        }
      ],
      "source": [
        "#Revsisón de variables puntuales Barrio y Desc Barrio\n",
        "df1 = df[df['Barrio'].isnull()]\n",
        "df1.shape"
      ]
    },
    {
      "cell_type": "markdown",
      "metadata": {
        "id": "Hb0nSfqDVmx-"
      },
      "source": [
        "Hay demasiados registros con datos nulos dentro de la base de datos, y para esto se tiene la opción de eliminar o imputar, sin embargo al ser tantos datos perderías mucha información si decidieramos eliminar; y por otro lado si se imputa habrían registros sin sentido como por ejemplo barrios que no existen dentro de un departamanto. Se optara entonces por no eliminar estos registros sino eliminar la columna ya que más de la mitad no tiene esa infromación."
      ]
    },
    {
      "cell_type": "code",
      "execution_count": 33,
      "metadata": {
        "id": "b1CSOivzVlVH"
      },
      "outputs": [],
      "source": [
        "#Borrar columna\n",
        "df.drop(['Barrio'], axis=1, inplace=True)"
      ]
    },
    {
      "cell_type": "code",
      "execution_count": 34,
      "metadata": {
        "colab": {
          "base_uri": "https://localhost:8080/"
        },
        "id": "k8edsFxKpH_k",
        "outputId": "1657b79c-21d5-41b6-cd19-d5a9321bb89e"
      },
      "outputs": [
        {
          "name": "stdout",
          "output_type": "stream",
          "text": [
            "<class 'pandas.core.frame.DataFrame'>\n",
            "Int64Index: 222006 entries, 0 to 703219\n",
            "Data columns (total 28 columns):\n",
            " #   Column                           Non-Null Count   Dtype  \n",
            "---  ------                           --------------   -----  \n",
            " 0   Fecha                            222006 non-null  object \n",
            " 1   Nro documento                    222006 non-null  object \n",
            " 2   Estado movto.                    222006 non-null  object \n",
            " 3   Bodega                           222006 non-null  float64\n",
            " 4   Item                             222006 non-null  float64\n",
            " 5   Desc. item                       222006 non-null  object \n",
            " 6   CLASIFICACION VENTAS PESOS       222006 non-null  object \n",
            " 7   CLASIFICACION ROTACION UNIDADES  222006 non-null  object \n",
            " 8   U.M.                             222006 non-null  object \n",
            " 9   Cant. pedida                     222006 non-null  float64\n",
            " 10  Cant. comprom.                   222006 non-null  float64\n",
            " 11  Cant. factura                    222006 non-null  float64\n",
            " 12  Desc. motivo                     222006 non-null  object \n",
            " 13  Vendedor                         222006 non-null  object \n",
            " 14  Nombre vendedor                  222006 non-null  object \n",
            " 15  Valor bruto                      222006 non-null  float64\n",
            " 16  COMPRAS_x                        222006 non-null  object \n",
            " 17  MARCA                            222006 non-null  object \n",
            " 18  CATEGORIA                        222006 non-null  object \n",
            " 19  SUBCATEGORIA                     222006 non-null  object \n",
            " 20  PROVEEDOR CCIAL_x                222006 non-null  object \n",
            " 21  FAMILIA-PRODUCTO                 222006 non-null  object \n",
            " 22  Depto                            222006 non-null  float64\n",
            " 23  Ciudad                           222006 non-null  float64\n",
            " 24  Referencia                       222006 non-null  object \n",
            " 25  Razon_social                     222006 non-null  object \n",
            " 26  ORIGEN PROVEEDOR                 222006 non-null  object \n",
            " 27  Estado                           222006 non-null  object \n",
            "dtypes: float64(8), object(20)\n",
            "memory usage: 49.1+ MB\n"
          ]
        }
      ],
      "source": [
        "df.info()"
      ]
    },
    {
      "cell_type": "markdown",
      "metadata": {
        "id": "XuCJwKsjrfgX"
      },
      "source": [
        "Revisar y modificar el tipo de variables"
      ]
    },
    {
      "cell_type": "code",
      "execution_count": 35,
      "metadata": {
        "id": "RSXK8ecZ29LI"
      },
      "outputs": [],
      "source": [
        "df['Estado movto.']=df['Estado movto.'].astype('category')\n",
        "df['Nro documento']=df['Nro documento'].astype('string')\n",
        "df['Bodega']=df['Bodega'].astype('string')\n",
        "df['Item']=df['Item'].astype('string')\n",
        "df['Desc. item']=df['Desc. item'].astype('string')\n",
        "df['CLASIFICACION VENTAS PESOS']=df['CLASIFICACION VENTAS PESOS'].astype('category')\n",
        "df['CLASIFICACION ROTACION UNIDADES']=df['CLASIFICACION ROTACION UNIDADES'].astype('category')\n",
        "df['Desc. motivo']=df['Desc. motivo'].astype('category')\n",
        "df['U.M.']=df['U.M.'].astype('string')\n",
        "df['Vendedor']=df['Vendedor'].astype('string')\n",
        "df['Nombre vendedor']=df['Nombre vendedor'].astype('string')\n",
        "df['COMPRAS_x']=df['COMPRAS_x'].astype('category')\n",
        "df['PROVEEDOR CCIAL_x']=df['PROVEEDOR CCIAL_x'].astype('category')\n",
        "df['FAMILIA-PRODUCTO']=df['FAMILIA-PRODUCTO'].astype('category')\n",
        "df['MARCA']=df['MARCA'].astype('category')\n",
        "df['CATEGORIA']=df['CATEGORIA'].astype('category')\n",
        "df['SUBCATEGORIA']=df['SUBCATEGORIA'].astype('category')\n",
        "df['Depto']=df['Depto'].astype('category')\n",
        "df['Ciudad']=df['Ciudad'].astype('category')\n",
        "df['Razon_social']=df['Razon_social'].astype('string')\n",
        "df['Referencia']=df['Referencia'].astype('string')\n",
        "df['ORIGEN PROVEEDOR']=df['ORIGEN PROVEEDOR'].astype('category')\n",
        "df['Estado']=df['Estado'].astype('category')"
      ]
    },
    {
      "cell_type": "code",
      "execution_count": 36,
      "metadata": {
        "colab": {
          "base_uri": "https://localhost:8080/"
        },
        "id": "n5DlrvFrFVGI",
        "outputId": "d67551e1-12cc-460a-fb10-aa00993619d9"
      },
      "outputs": [
        {
          "data": {
            "text/plain": [
              "Fecha                                object\n",
              "Nro documento                        string\n",
              "Estado movto.                      category\n",
              "Bodega                               string\n",
              "Item                                 string\n",
              "Desc. item                           string\n",
              "CLASIFICACION VENTAS PESOS         category\n",
              "CLASIFICACION ROTACION UNIDADES    category\n",
              "U.M.                                 string\n",
              "Cant. pedida                        float64\n",
              "Cant. comprom.                      float64\n",
              "Cant. factura                       float64\n",
              "Desc. motivo                       category\n",
              "Vendedor                             string\n",
              "Nombre vendedor                      string\n",
              "Valor bruto                         float64\n",
              "COMPRAS_x                          category\n",
              "MARCA                              category\n",
              "CATEGORIA                          category\n",
              "SUBCATEGORIA                       category\n",
              "PROVEEDOR CCIAL_x                  category\n",
              "FAMILIA-PRODUCTO                   category\n",
              "Depto                              category\n",
              "Ciudad                             category\n",
              "Referencia                           string\n",
              "Razon_social                         string\n",
              "ORIGEN PROVEEDOR                   category\n",
              "Estado                             category\n",
              "dtype: object"
            ]
          },
          "execution_count": 36,
          "metadata": {},
          "output_type": "execute_result"
        }
      ],
      "source": [
        "df.dtypes"
      ]
    },
    {
      "cell_type": "code",
      "execution_count": 37,
      "metadata": {
        "colab": {
          "base_uri": "https://localhost:8080/"
        },
        "id": "p-S0N7Ouz13U",
        "outputId": "d880a264-19e4-40f6-e262-bbfb32286464"
      },
      "outputs": [
        {
          "data": {
            "text/plain": [
              "['Cant. pedida', 'Cant. comprom.', 'Cant. factura', 'Valor bruto']"
            ]
          },
          "execution_count": 37,
          "metadata": {},
          "output_type": "execute_result"
        }
      ],
      "source": [
        "numericas = []\n",
        "for c in df.columns:\n",
        "    t = str(df[c].dtype)\n",
        "    if \"int\" in t or \"float\" in t:\n",
        "        numericas.append(c)\n",
        "numericas"
      ]
    },
    {
      "cell_type": "code",
      "execution_count": 38,
      "metadata": {
        "colab": {
          "base_uri": "https://localhost:8080/",
          "height": 206
        },
        "id": "U5u6ObUZ0Khs",
        "outputId": "50b80817-a1de-4964-86b6-7b714c5f081f"
      },
      "outputs": [
        {
          "data": {
            "text/html": [
              "\n",
              "  <div id=\"df-817d46a5-589f-4fc1-938e-ebd7c88b8c72\">\n",
              "    <div class=\"colab-df-container\">\n",
              "      <div>\n",
              "<style scoped>\n",
              "    .dataframe tbody tr th:only-of-type {\n",
              "        vertical-align: middle;\n",
              "    }\n",
              "\n",
              "    .dataframe tbody tr th {\n",
              "        vertical-align: top;\n",
              "    }\n",
              "\n",
              "    .dataframe thead th {\n",
              "        text-align: right;\n",
              "    }\n",
              "</style>\n",
              "<table border=\"1\" class=\"dataframe\">\n",
              "  <thead>\n",
              "    <tr style=\"text-align: right;\">\n",
              "      <th></th>\n",
              "      <th>Cant. pedida</th>\n",
              "      <th>Cant. comprom.</th>\n",
              "      <th>Cant. factura</th>\n",
              "      <th>Valor bruto</th>\n",
              "    </tr>\n",
              "  </thead>\n",
              "  <tbody>\n",
              "    <tr>\n",
              "      <th>0</th>\n",
              "      <td>2.0</td>\n",
              "      <td>0.0</td>\n",
              "      <td>2.0</td>\n",
              "      <td>8614.0</td>\n",
              "    </tr>\n",
              "    <tr>\n",
              "      <th>1</th>\n",
              "      <td>5.0</td>\n",
              "      <td>0.0</td>\n",
              "      <td>5.0</td>\n",
              "      <td>1984550.0</td>\n",
              "    </tr>\n",
              "    <tr>\n",
              "      <th>2</th>\n",
              "      <td>1.0</td>\n",
              "      <td>0.0</td>\n",
              "      <td>1.0</td>\n",
              "      <td>409165.0</td>\n",
              "    </tr>\n",
              "    <tr>\n",
              "      <th>3</th>\n",
              "      <td>3.0</td>\n",
              "      <td>0.0</td>\n",
              "      <td>3.0</td>\n",
              "      <td>121581.0</td>\n",
              "    </tr>\n",
              "    <tr>\n",
              "      <th>4</th>\n",
              "      <td>20.0</td>\n",
              "      <td>0.0</td>\n",
              "      <td>20.0</td>\n",
              "      <td>83560.0</td>\n",
              "    </tr>\n",
              "  </tbody>\n",
              "</table>\n",
              "</div>\n",
              "      <button class=\"colab-df-convert\" onclick=\"convertToInteractive('df-817d46a5-589f-4fc1-938e-ebd7c88b8c72')\"\n",
              "              title=\"Convert this dataframe to an interactive table.\"\n",
              "              style=\"display:none;\">\n",
              "        \n",
              "  <svg xmlns=\"http://www.w3.org/2000/svg\" height=\"24px\"viewBox=\"0 0 24 24\"\n",
              "       width=\"24px\">\n",
              "    <path d=\"M0 0h24v24H0V0z\" fill=\"none\"/>\n",
              "    <path d=\"M18.56 5.44l.94 2.06.94-2.06 2.06-.94-2.06-.94-.94-2.06-.94 2.06-2.06.94zm-11 1L8.5 8.5l.94-2.06 2.06-.94-2.06-.94L8.5 2.5l-.94 2.06-2.06.94zm10 10l.94 2.06.94-2.06 2.06-.94-2.06-.94-.94-2.06-.94 2.06-2.06.94z\"/><path d=\"M17.41 7.96l-1.37-1.37c-.4-.4-.92-.59-1.43-.59-.52 0-1.04.2-1.43.59L10.3 9.45l-7.72 7.72c-.78.78-.78 2.05 0 2.83L4 21.41c.39.39.9.59 1.41.59.51 0 1.02-.2 1.41-.59l7.78-7.78 2.81-2.81c.8-.78.8-2.07 0-2.86zM5.41 20L4 18.59l7.72-7.72 1.47 1.35L5.41 20z\"/>\n",
              "  </svg>\n",
              "      </button>\n",
              "      \n",
              "  <style>\n",
              "    .colab-df-container {\n",
              "      display:flex;\n",
              "      flex-wrap:wrap;\n",
              "      gap: 12px;\n",
              "    }\n",
              "\n",
              "    .colab-df-convert {\n",
              "      background-color: #E8F0FE;\n",
              "      border: none;\n",
              "      border-radius: 50%;\n",
              "      cursor: pointer;\n",
              "      display: none;\n",
              "      fill: #1967D2;\n",
              "      height: 32px;\n",
              "      padding: 0 0 0 0;\n",
              "      width: 32px;\n",
              "    }\n",
              "\n",
              "    .colab-df-convert:hover {\n",
              "      background-color: #E2EBFA;\n",
              "      box-shadow: 0px 1px 2px rgba(60, 64, 67, 0.3), 0px 1px 3px 1px rgba(60, 64, 67, 0.15);\n",
              "      fill: #174EA6;\n",
              "    }\n",
              "\n",
              "    [theme=dark] .colab-df-convert {\n",
              "      background-color: #3B4455;\n",
              "      fill: #D2E3FC;\n",
              "    }\n",
              "\n",
              "    [theme=dark] .colab-df-convert:hover {\n",
              "      background-color: #434B5C;\n",
              "      box-shadow: 0px 1px 3px 1px rgba(0, 0, 0, 0.15);\n",
              "      filter: drop-shadow(0px 1px 2px rgba(0, 0, 0, 0.3));\n",
              "      fill: #FFFFFF;\n",
              "    }\n",
              "  </style>\n",
              "\n",
              "      <script>\n",
              "        const buttonEl =\n",
              "          document.querySelector('#df-817d46a5-589f-4fc1-938e-ebd7c88b8c72 button.colab-df-convert');\n",
              "        buttonEl.style.display =\n",
              "          google.colab.kernel.accessAllowed ? 'block' : 'none';\n",
              "\n",
              "        async function convertToInteractive(key) {\n",
              "          const element = document.querySelector('#df-817d46a5-589f-4fc1-938e-ebd7c88b8c72');\n",
              "          const dataTable =\n",
              "            await google.colab.kernel.invokeFunction('convertToInteractive',\n",
              "                                                     [key], {});\n",
              "          if (!dataTable) return;\n",
              "\n",
              "          const docLinkHtml = 'Like what you see? Visit the ' +\n",
              "            '<a target=\"_blank\" href=https://colab.research.google.com/notebooks/data_table.ipynb>data table notebook</a>'\n",
              "            + ' to learn more about interactive tables.';\n",
              "          element.innerHTML = '';\n",
              "          dataTable['output_type'] = 'display_data';\n",
              "          await google.colab.output.renderOutput(dataTable, element);\n",
              "          const docLink = document.createElement('div');\n",
              "          docLink.innerHTML = docLinkHtml;\n",
              "          element.appendChild(docLink);\n",
              "        }\n",
              "      </script>\n",
              "    </div>\n",
              "  </div>\n",
              "  "
            ],
            "text/plain": [
              "   Cant. pedida  Cant. comprom.  Cant. factura  Valor bruto\n",
              "0           2.0             0.0            2.0       8614.0\n",
              "1           5.0             0.0            5.0    1984550.0\n",
              "2           1.0             0.0            1.0     409165.0\n",
              "3           3.0             0.0            3.0     121581.0\n",
              "4          20.0             0.0           20.0      83560.0"
            ]
          },
          "execution_count": 38,
          "metadata": {},
          "output_type": "execute_result"
        }
      ],
      "source": [
        "cuantitativas = df[['Cant. pedida', 'Cant. comprom.', 'Cant. factura', 'Valor bruto']]\n",
        "cuantitativas.head()"
      ]
    },
    {
      "cell_type": "code",
      "execution_count": 39,
      "metadata": {
        "colab": {
          "base_uri": "https://localhost:8080/"
        },
        "id": "G3a5oaxaqkdo",
        "outputId": "51575c4b-b243-4e1f-998f-dea13bd190ba"
      },
      "outputs": [
        {
          "data": {
            "text/plain": [
              "['Estado movto.',\n",
              " 'CLASIFICACION VENTAS PESOS',\n",
              " 'CLASIFICACION ROTACION UNIDADES',\n",
              " 'Desc. motivo',\n",
              " 'COMPRAS_x',\n",
              " 'MARCA',\n",
              " 'CATEGORIA',\n",
              " 'SUBCATEGORIA',\n",
              " 'PROVEEDOR CCIAL_x',\n",
              " 'FAMILIA-PRODUCTO',\n",
              " 'Depto',\n",
              " 'Ciudad',\n",
              " 'ORIGEN PROVEEDOR',\n",
              " 'Estado']"
            ]
          },
          "execution_count": 39,
          "metadata": {},
          "output_type": "execute_result"
        }
      ],
      "source": [
        "features = []\n",
        "for c in df.columns:\n",
        "    t = str(df[c].dtype)\n",
        "    if \"category\" in t:\n",
        "        features.append(c)\n",
        "features"
      ]
    },
    {
      "cell_type": "code",
      "execution_count": 40,
      "metadata": {
        "colab": {
          "base_uri": "https://localhost:8080/"
        },
        "id": "K3o5LUb0roGS",
        "outputId": "41f31af2-ac74-4b5c-f5ec-867f7c3a8e3b"
      },
      "outputs": [
        {
          "data": {
            "text/plain": [
              "(222006, 12)"
            ]
          },
          "execution_count": 40,
          "metadata": {},
          "output_type": "execute_result"
        }
      ],
      "source": [
        "cualitativas = df[['Estado movto.','Desc. motivo','COMPRAS_x','MARCA','CATEGORIA','SUBCATEGORIA','PROVEEDOR CCIAL_x',\n",
        "                   'FAMILIA-PRODUCTO','Depto','Ciudad','ORIGEN PROVEEDOR','Estado']]\n",
        "cualitativas.shape"
      ]
    },
    {
      "cell_type": "markdown",
      "metadata": {
        "id": "hAFSfNDc3ou1"
      },
      "source": [
        "Ahora vamos a organizar nuestra base de datos con los nombres caracteristica/categoria para cada columna de la base de datos categóricos"
      ]
    },
    {
      "cell_type": "code",
      "execution_count": 41,
      "metadata": {
        "colab": {
          "base_uri": "https://localhost:8080/",
          "height": 539
        },
        "id": "aE8CpC1b5ftX",
        "outputId": "63852ac0-1045-4e06-ab30-b1e456f67ebf"
      },
      "outputs": [
        {
          "data": {
            "text/html": [
              "\n",
              "  <div id=\"df-13f31188-1bbb-4f6b-a313-1f7fb02e44ad\">\n",
              "    <div class=\"colab-df-container\">\n",
              "      <div>\n",
              "<style scoped>\n",
              "    .dataframe tbody tr th:only-of-type {\n",
              "        vertical-align: middle;\n",
              "    }\n",
              "\n",
              "    .dataframe tbody tr th {\n",
              "        vertical-align: top;\n",
              "    }\n",
              "\n",
              "    .dataframe thead th {\n",
              "        text-align: right;\n",
              "    }\n",
              "</style>\n",
              "<table border=\"1\" class=\"dataframe\">\n",
              "  <thead>\n",
              "    <tr style=\"text-align: right;\">\n",
              "      <th></th>\n",
              "      <th>Estado movto._Comprometido</th>\n",
              "      <th>Estado movto._Cumplido</th>\n",
              "      <th>Desc. motivo_Gestion de Pendientes</th>\n",
              "      <th>Desc. motivo_Llamadas de Entrada</th>\n",
              "      <th>Desc. motivo_Llamadas de Salida</th>\n",
              "      <th>Desc. motivo_Pedidos Vendedores</th>\n",
              "      <th>Desc. motivo_Tienda Virtual</th>\n",
              "      <th>Desc. motivo_Ventas</th>\n",
              "      <th>Desc. motivo_Ventas Exterior</th>\n",
              "      <th>Desc. motivo_Ventas Refacturadas x DevoluciÃ³n</th>\n",
              "      <th>...</th>\n",
              "      <th>Ciudad_887.0</th>\n",
              "      <th>Ciudad_890.0</th>\n",
              "      <th>Ciudad_892.0</th>\n",
              "      <th>Ciudad_893.0</th>\n",
              "      <th>Ciudad_894.0</th>\n",
              "      <th>Ciudad_895.0</th>\n",
              "      <th>Ciudad_897.0</th>\n",
              "      <th>Ciudad_899.0</th>\n",
              "      <th>Ciudad_960.0</th>\n",
              "      <th>Ciudad_980.0</th>\n",
              "    </tr>\n",
              "  </thead>\n",
              "  <tbody>\n",
              "    <tr>\n",
              "      <th>0</th>\n",
              "      <td>0</td>\n",
              "      <td>1</td>\n",
              "      <td>0</td>\n",
              "      <td>0</td>\n",
              "      <td>0</td>\n",
              "      <td>0</td>\n",
              "      <td>1</td>\n",
              "      <td>0</td>\n",
              "      <td>0</td>\n",
              "      <td>0</td>\n",
              "      <td>...</td>\n",
              "      <td>0</td>\n",
              "      <td>0</td>\n",
              "      <td>0</td>\n",
              "      <td>0</td>\n",
              "      <td>0</td>\n",
              "      <td>0</td>\n",
              "      <td>0</td>\n",
              "      <td>0</td>\n",
              "      <td>0</td>\n",
              "      <td>0</td>\n",
              "    </tr>\n",
              "    <tr>\n",
              "      <th>1</th>\n",
              "      <td>0</td>\n",
              "      <td>1</td>\n",
              "      <td>0</td>\n",
              "      <td>0</td>\n",
              "      <td>1</td>\n",
              "      <td>0</td>\n",
              "      <td>0</td>\n",
              "      <td>0</td>\n",
              "      <td>0</td>\n",
              "      <td>0</td>\n",
              "      <td>...</td>\n",
              "      <td>0</td>\n",
              "      <td>0</td>\n",
              "      <td>0</td>\n",
              "      <td>0</td>\n",
              "      <td>0</td>\n",
              "      <td>0</td>\n",
              "      <td>0</td>\n",
              "      <td>0</td>\n",
              "      <td>0</td>\n",
              "      <td>0</td>\n",
              "    </tr>\n",
              "    <tr>\n",
              "      <th>2</th>\n",
              "      <td>0</td>\n",
              "      <td>1</td>\n",
              "      <td>0</td>\n",
              "      <td>0</td>\n",
              "      <td>0</td>\n",
              "      <td>1</td>\n",
              "      <td>0</td>\n",
              "      <td>0</td>\n",
              "      <td>0</td>\n",
              "      <td>0</td>\n",
              "      <td>...</td>\n",
              "      <td>0</td>\n",
              "      <td>0</td>\n",
              "      <td>0</td>\n",
              "      <td>0</td>\n",
              "      <td>0</td>\n",
              "      <td>0</td>\n",
              "      <td>0</td>\n",
              "      <td>0</td>\n",
              "      <td>0</td>\n",
              "      <td>0</td>\n",
              "    </tr>\n",
              "    <tr>\n",
              "      <th>3</th>\n",
              "      <td>0</td>\n",
              "      <td>1</td>\n",
              "      <td>0</td>\n",
              "      <td>0</td>\n",
              "      <td>0</td>\n",
              "      <td>1</td>\n",
              "      <td>0</td>\n",
              "      <td>0</td>\n",
              "      <td>0</td>\n",
              "      <td>0</td>\n",
              "      <td>...</td>\n",
              "      <td>0</td>\n",
              "      <td>0</td>\n",
              "      <td>0</td>\n",
              "      <td>0</td>\n",
              "      <td>0</td>\n",
              "      <td>0</td>\n",
              "      <td>0</td>\n",
              "      <td>0</td>\n",
              "      <td>0</td>\n",
              "      <td>0</td>\n",
              "    </tr>\n",
              "    <tr>\n",
              "      <th>4</th>\n",
              "      <td>0</td>\n",
              "      <td>1</td>\n",
              "      <td>0</td>\n",
              "      <td>0</td>\n",
              "      <td>0</td>\n",
              "      <td>0</td>\n",
              "      <td>0</td>\n",
              "      <td>1</td>\n",
              "      <td>0</td>\n",
              "      <td>0</td>\n",
              "      <td>...</td>\n",
              "      <td>0</td>\n",
              "      <td>0</td>\n",
              "      <td>0</td>\n",
              "      <td>0</td>\n",
              "      <td>0</td>\n",
              "      <td>0</td>\n",
              "      <td>0</td>\n",
              "      <td>0</td>\n",
              "      <td>0</td>\n",
              "      <td>0</td>\n",
              "    </tr>\n",
              "    <tr>\n",
              "      <th>...</th>\n",
              "      <td>...</td>\n",
              "      <td>...</td>\n",
              "      <td>...</td>\n",
              "      <td>...</td>\n",
              "      <td>...</td>\n",
              "      <td>...</td>\n",
              "      <td>...</td>\n",
              "      <td>...</td>\n",
              "      <td>...</td>\n",
              "      <td>...</td>\n",
              "      <td>...</td>\n",
              "      <td>...</td>\n",
              "      <td>...</td>\n",
              "      <td>...</td>\n",
              "      <td>...</td>\n",
              "      <td>...</td>\n",
              "      <td>...</td>\n",
              "      <td>...</td>\n",
              "      <td>...</td>\n",
              "      <td>...</td>\n",
              "      <td>...</td>\n",
              "    </tr>\n",
              "    <tr>\n",
              "      <th>703215</th>\n",
              "      <td>0</td>\n",
              "      <td>1</td>\n",
              "      <td>0</td>\n",
              "      <td>0</td>\n",
              "      <td>0</td>\n",
              "      <td>0</td>\n",
              "      <td>0</td>\n",
              "      <td>1</td>\n",
              "      <td>0</td>\n",
              "      <td>0</td>\n",
              "      <td>...</td>\n",
              "      <td>0</td>\n",
              "      <td>0</td>\n",
              "      <td>0</td>\n",
              "      <td>0</td>\n",
              "      <td>0</td>\n",
              "      <td>0</td>\n",
              "      <td>0</td>\n",
              "      <td>0</td>\n",
              "      <td>0</td>\n",
              "      <td>0</td>\n",
              "    </tr>\n",
              "    <tr>\n",
              "      <th>703216</th>\n",
              "      <td>0</td>\n",
              "      <td>1</td>\n",
              "      <td>0</td>\n",
              "      <td>0</td>\n",
              "      <td>0</td>\n",
              "      <td>0</td>\n",
              "      <td>0</td>\n",
              "      <td>1</td>\n",
              "      <td>0</td>\n",
              "      <td>0</td>\n",
              "      <td>...</td>\n",
              "      <td>0</td>\n",
              "      <td>0</td>\n",
              "      <td>0</td>\n",
              "      <td>0</td>\n",
              "      <td>0</td>\n",
              "      <td>0</td>\n",
              "      <td>0</td>\n",
              "      <td>0</td>\n",
              "      <td>0</td>\n",
              "      <td>0</td>\n",
              "    </tr>\n",
              "    <tr>\n",
              "      <th>703217</th>\n",
              "      <td>0</td>\n",
              "      <td>1</td>\n",
              "      <td>0</td>\n",
              "      <td>0</td>\n",
              "      <td>0</td>\n",
              "      <td>0</td>\n",
              "      <td>0</td>\n",
              "      <td>1</td>\n",
              "      <td>0</td>\n",
              "      <td>0</td>\n",
              "      <td>...</td>\n",
              "      <td>0</td>\n",
              "      <td>0</td>\n",
              "      <td>0</td>\n",
              "      <td>0</td>\n",
              "      <td>0</td>\n",
              "      <td>0</td>\n",
              "      <td>0</td>\n",
              "      <td>0</td>\n",
              "      <td>0</td>\n",
              "      <td>0</td>\n",
              "    </tr>\n",
              "    <tr>\n",
              "      <th>703218</th>\n",
              "      <td>0</td>\n",
              "      <td>1</td>\n",
              "      <td>0</td>\n",
              "      <td>0</td>\n",
              "      <td>0</td>\n",
              "      <td>0</td>\n",
              "      <td>0</td>\n",
              "      <td>1</td>\n",
              "      <td>0</td>\n",
              "      <td>0</td>\n",
              "      <td>...</td>\n",
              "      <td>0</td>\n",
              "      <td>0</td>\n",
              "      <td>0</td>\n",
              "      <td>0</td>\n",
              "      <td>0</td>\n",
              "      <td>0</td>\n",
              "      <td>0</td>\n",
              "      <td>0</td>\n",
              "      <td>0</td>\n",
              "      <td>0</td>\n",
              "    </tr>\n",
              "    <tr>\n",
              "      <th>703219</th>\n",
              "      <td>0</td>\n",
              "      <td>1</td>\n",
              "      <td>0</td>\n",
              "      <td>0</td>\n",
              "      <td>0</td>\n",
              "      <td>0</td>\n",
              "      <td>0</td>\n",
              "      <td>1</td>\n",
              "      <td>0</td>\n",
              "      <td>0</td>\n",
              "      <td>...</td>\n",
              "      <td>0</td>\n",
              "      <td>0</td>\n",
              "      <td>0</td>\n",
              "      <td>0</td>\n",
              "      <td>0</td>\n",
              "      <td>0</td>\n",
              "      <td>0</td>\n",
              "      <td>0</td>\n",
              "      <td>0</td>\n",
              "      <td>0</td>\n",
              "    </tr>\n",
              "  </tbody>\n",
              "</table>\n",
              "<p>222006 rows × 900 columns</p>\n",
              "</div>\n",
              "      <button class=\"colab-df-convert\" onclick=\"convertToInteractive('df-13f31188-1bbb-4f6b-a313-1f7fb02e44ad')\"\n",
              "              title=\"Convert this dataframe to an interactive table.\"\n",
              "              style=\"display:none;\">\n",
              "        \n",
              "  <svg xmlns=\"http://www.w3.org/2000/svg\" height=\"24px\"viewBox=\"0 0 24 24\"\n",
              "       width=\"24px\">\n",
              "    <path d=\"M0 0h24v24H0V0z\" fill=\"none\"/>\n",
              "    <path d=\"M18.56 5.44l.94 2.06.94-2.06 2.06-.94-2.06-.94-.94-2.06-.94 2.06-2.06.94zm-11 1L8.5 8.5l.94-2.06 2.06-.94-2.06-.94L8.5 2.5l-.94 2.06-2.06.94zm10 10l.94 2.06.94-2.06 2.06-.94-2.06-.94-.94-2.06-.94 2.06-2.06.94z\"/><path d=\"M17.41 7.96l-1.37-1.37c-.4-.4-.92-.59-1.43-.59-.52 0-1.04.2-1.43.59L10.3 9.45l-7.72 7.72c-.78.78-.78 2.05 0 2.83L4 21.41c.39.39.9.59 1.41.59.51 0 1.02-.2 1.41-.59l7.78-7.78 2.81-2.81c.8-.78.8-2.07 0-2.86zM5.41 20L4 18.59l7.72-7.72 1.47 1.35L5.41 20z\"/>\n",
              "  </svg>\n",
              "      </button>\n",
              "      \n",
              "  <style>\n",
              "    .colab-df-container {\n",
              "      display:flex;\n",
              "      flex-wrap:wrap;\n",
              "      gap: 12px;\n",
              "    }\n",
              "\n",
              "    .colab-df-convert {\n",
              "      background-color: #E8F0FE;\n",
              "      border: none;\n",
              "      border-radius: 50%;\n",
              "      cursor: pointer;\n",
              "      display: none;\n",
              "      fill: #1967D2;\n",
              "      height: 32px;\n",
              "      padding: 0 0 0 0;\n",
              "      width: 32px;\n",
              "    }\n",
              "\n",
              "    .colab-df-convert:hover {\n",
              "      background-color: #E2EBFA;\n",
              "      box-shadow: 0px 1px 2px rgba(60, 64, 67, 0.3), 0px 1px 3px 1px rgba(60, 64, 67, 0.15);\n",
              "      fill: #174EA6;\n",
              "    }\n",
              "\n",
              "    [theme=dark] .colab-df-convert {\n",
              "      background-color: #3B4455;\n",
              "      fill: #D2E3FC;\n",
              "    }\n",
              "\n",
              "    [theme=dark] .colab-df-convert:hover {\n",
              "      background-color: #434B5C;\n",
              "      box-shadow: 0px 1px 3px 1px rgba(0, 0, 0, 0.15);\n",
              "      filter: drop-shadow(0px 1px 2px rgba(0, 0, 0, 0.3));\n",
              "      fill: #FFFFFF;\n",
              "    }\n",
              "  </style>\n",
              "\n",
              "      <script>\n",
              "        const buttonEl =\n",
              "          document.querySelector('#df-13f31188-1bbb-4f6b-a313-1f7fb02e44ad button.colab-df-convert');\n",
              "        buttonEl.style.display =\n",
              "          google.colab.kernel.accessAllowed ? 'block' : 'none';\n",
              "\n",
              "        async function convertToInteractive(key) {\n",
              "          const element = document.querySelector('#df-13f31188-1bbb-4f6b-a313-1f7fb02e44ad');\n",
              "          const dataTable =\n",
              "            await google.colab.kernel.invokeFunction('convertToInteractive',\n",
              "                                                     [key], {});\n",
              "          if (!dataTable) return;\n",
              "\n",
              "          const docLinkHtml = 'Like what you see? Visit the ' +\n",
              "            '<a target=\"_blank\" href=https://colab.research.google.com/notebooks/data_table.ipynb>data table notebook</a>'\n",
              "            + ' to learn more about interactive tables.';\n",
              "          element.innerHTML = '';\n",
              "          dataTable['output_type'] = 'display_data';\n",
              "          await google.colab.output.renderOutput(dataTable, element);\n",
              "          const docLink = document.createElement('div');\n",
              "          docLink.innerHTML = docLinkHtml;\n",
              "          element.appendChild(docLink);\n",
              "        }\n",
              "      </script>\n",
              "    </div>\n",
              "  </div>\n",
              "  "
            ],
            "text/plain": [
              "        Estado movto._Comprometido  Estado movto._Cumplido  \\\n",
              "0                                0                       1   \n",
              "1                                0                       1   \n",
              "2                                0                       1   \n",
              "3                                0                       1   \n",
              "4                                0                       1   \n",
              "...                            ...                     ...   \n",
              "703215                           0                       1   \n",
              "703216                           0                       1   \n",
              "703217                           0                       1   \n",
              "703218                           0                       1   \n",
              "703219                           0                       1   \n",
              "\n",
              "        Desc. motivo_Gestion de Pendientes  Desc. motivo_Llamadas de Entrada  \\\n",
              "0                                        0                                 0   \n",
              "1                                        0                                 0   \n",
              "2                                        0                                 0   \n",
              "3                                        0                                 0   \n",
              "4                                        0                                 0   \n",
              "...                                    ...                               ...   \n",
              "703215                                   0                                 0   \n",
              "703216                                   0                                 0   \n",
              "703217                                   0                                 0   \n",
              "703218                                   0                                 0   \n",
              "703219                                   0                                 0   \n",
              "\n",
              "        Desc. motivo_Llamadas de Salida  Desc. motivo_Pedidos Vendedores  \\\n",
              "0                                     0                                0   \n",
              "1                                     1                                0   \n",
              "2                                     0                                1   \n",
              "3                                     0                                1   \n",
              "4                                     0                                0   \n",
              "...                                 ...                              ...   \n",
              "703215                                0                                0   \n",
              "703216                                0                                0   \n",
              "703217                                0                                0   \n",
              "703218                                0                                0   \n",
              "703219                                0                                0   \n",
              "\n",
              "        Desc. motivo_Tienda Virtual  Desc. motivo_Ventas  \\\n",
              "0                                 1                    0   \n",
              "1                                 0                    0   \n",
              "2                                 0                    0   \n",
              "3                                 0                    0   \n",
              "4                                 0                    1   \n",
              "...                             ...                  ...   \n",
              "703215                            0                    1   \n",
              "703216                            0                    1   \n",
              "703217                            0                    1   \n",
              "703218                            0                    1   \n",
              "703219                            0                    1   \n",
              "\n",
              "        Desc. motivo_Ventas Exterior  \\\n",
              "0                                  0   \n",
              "1                                  0   \n",
              "2                                  0   \n",
              "3                                  0   \n",
              "4                                  0   \n",
              "...                              ...   \n",
              "703215                             0   \n",
              "703216                             0   \n",
              "703217                             0   \n",
              "703218                             0   \n",
              "703219                             0   \n",
              "\n",
              "        Desc. motivo_Ventas Refacturadas x DevoluciÃ³n  ...  Ciudad_887.0  \\\n",
              "0                                                    0  ...             0   \n",
              "1                                                    0  ...             0   \n",
              "2                                                    0  ...             0   \n",
              "3                                                    0  ...             0   \n",
              "4                                                    0  ...             0   \n",
              "...                                                ...  ...           ...   \n",
              "703215                                               0  ...             0   \n",
              "703216                                               0  ...             0   \n",
              "703217                                               0  ...             0   \n",
              "703218                                               0  ...             0   \n",
              "703219                                               0  ...             0   \n",
              "\n",
              "        Ciudad_890.0  Ciudad_892.0  Ciudad_893.0  Ciudad_894.0  Ciudad_895.0  \\\n",
              "0                  0             0             0             0             0   \n",
              "1                  0             0             0             0             0   \n",
              "2                  0             0             0             0             0   \n",
              "3                  0             0             0             0             0   \n",
              "4                  0             0             0             0             0   \n",
              "...              ...           ...           ...           ...           ...   \n",
              "703215             0             0             0             0             0   \n",
              "703216             0             0             0             0             0   \n",
              "703217             0             0             0             0             0   \n",
              "703218             0             0             0             0             0   \n",
              "703219             0             0             0             0             0   \n",
              "\n",
              "        Ciudad_897.0  Ciudad_899.0  Ciudad_960.0  Ciudad_980.0  \n",
              "0                  0             0             0             0  \n",
              "1                  0             0             0             0  \n",
              "2                  0             0             0             0  \n",
              "3                  0             0             0             0  \n",
              "4                  0             0             0             0  \n",
              "...              ...           ...           ...           ...  \n",
              "703215             0             0             0             0  \n",
              "703216             0             0             0             0  \n",
              "703217             0             0             0             0  \n",
              "703218             0             0             0             0  \n",
              "703219             0             0             0             0  \n",
              "\n",
              "[222006 rows x 900 columns]"
            ]
          },
          "metadata": {},
          "output_type": "display_data"
        }
      ],
      "source": [
        "data_Dummy = pd.get_dummies(cualitativas, drop_first = True) # Codificación simulada. El parámetro drop_first permite sacar las k-1 simulaciones \n",
        "                                                         # de los niveles categóricos, eliminando el primer nivel de codificación.\n",
        "display(data_Dummy)"
      ]
    },
    {
      "cell_type": "markdown",
      "metadata": {
        "id": "6TKnJ-fS60kh"
      },
      "source": [
        "Debido a la forma como se codifica los datos categóricos, el número de características aumenta debido a que el método considera cada columna de la base de datos con la nomenclatura: Caracteristica/Categoría."
      ]
    },
    {
      "cell_type": "code",
      "execution_count": 42,
      "metadata": {
        "colab": {
          "base_uri": "https://localhost:8080/",
          "height": 522
        },
        "id": "PSsojZtI8LDP",
        "outputId": "20d6287b-de7e-47ed-94b3-b5b18928a7da"
      },
      "outputs": [
        {
          "data": {
            "text/html": [
              "\n",
              "  <div id=\"df-4a119757-0865-483e-a9e8-ff30d2280fc9\">\n",
              "    <div class=\"colab-df-container\">\n",
              "      <div>\n",
              "<style scoped>\n",
              "    .dataframe tbody tr th:only-of-type {\n",
              "        vertical-align: middle;\n",
              "    }\n",
              "\n",
              "    .dataframe tbody tr th {\n",
              "        vertical-align: top;\n",
              "    }\n",
              "\n",
              "    .dataframe thead th {\n",
              "        text-align: right;\n",
              "    }\n",
              "</style>\n",
              "<table border=\"1\" class=\"dataframe\">\n",
              "  <thead>\n",
              "    <tr style=\"text-align: right;\">\n",
              "      <th></th>\n",
              "      <th>Cant. pedida</th>\n",
              "      <th>Cant. comprom.</th>\n",
              "      <th>Cant. factura</th>\n",
              "      <th>Valor bruto</th>\n",
              "      <th>Estado movto._Comprometido</th>\n",
              "      <th>Estado movto._Cumplido</th>\n",
              "      <th>Desc. motivo_Gestion de Pendientes</th>\n",
              "      <th>Desc. motivo_Llamadas de Entrada</th>\n",
              "      <th>Desc. motivo_Llamadas de Salida</th>\n",
              "      <th>Desc. motivo_Pedidos Vendedores</th>\n",
              "      <th>...</th>\n",
              "      <th>Ciudad_887.0</th>\n",
              "      <th>Ciudad_890.0</th>\n",
              "      <th>Ciudad_892.0</th>\n",
              "      <th>Ciudad_893.0</th>\n",
              "      <th>Ciudad_894.0</th>\n",
              "      <th>Ciudad_895.0</th>\n",
              "      <th>Ciudad_897.0</th>\n",
              "      <th>Ciudad_899.0</th>\n",
              "      <th>Ciudad_960.0</th>\n",
              "      <th>Ciudad_980.0</th>\n",
              "    </tr>\n",
              "  </thead>\n",
              "  <tbody>\n",
              "    <tr>\n",
              "      <th>0</th>\n",
              "      <td>2.0</td>\n",
              "      <td>0.0</td>\n",
              "      <td>2.0</td>\n",
              "      <td>8614.0</td>\n",
              "      <td>0</td>\n",
              "      <td>1</td>\n",
              "      <td>0</td>\n",
              "      <td>0</td>\n",
              "      <td>0</td>\n",
              "      <td>0</td>\n",
              "      <td>...</td>\n",
              "      <td>0</td>\n",
              "      <td>0</td>\n",
              "      <td>0</td>\n",
              "      <td>0</td>\n",
              "      <td>0</td>\n",
              "      <td>0</td>\n",
              "      <td>0</td>\n",
              "      <td>0</td>\n",
              "      <td>0</td>\n",
              "      <td>0</td>\n",
              "    </tr>\n",
              "    <tr>\n",
              "      <th>1</th>\n",
              "      <td>5.0</td>\n",
              "      <td>0.0</td>\n",
              "      <td>5.0</td>\n",
              "      <td>1984550.0</td>\n",
              "      <td>0</td>\n",
              "      <td>1</td>\n",
              "      <td>0</td>\n",
              "      <td>0</td>\n",
              "      <td>1</td>\n",
              "      <td>0</td>\n",
              "      <td>...</td>\n",
              "      <td>0</td>\n",
              "      <td>0</td>\n",
              "      <td>0</td>\n",
              "      <td>0</td>\n",
              "      <td>0</td>\n",
              "      <td>0</td>\n",
              "      <td>0</td>\n",
              "      <td>0</td>\n",
              "      <td>0</td>\n",
              "      <td>0</td>\n",
              "    </tr>\n",
              "    <tr>\n",
              "      <th>2</th>\n",
              "      <td>1.0</td>\n",
              "      <td>0.0</td>\n",
              "      <td>1.0</td>\n",
              "      <td>409165.0</td>\n",
              "      <td>0</td>\n",
              "      <td>1</td>\n",
              "      <td>0</td>\n",
              "      <td>0</td>\n",
              "      <td>0</td>\n",
              "      <td>1</td>\n",
              "      <td>...</td>\n",
              "      <td>0</td>\n",
              "      <td>0</td>\n",
              "      <td>0</td>\n",
              "      <td>0</td>\n",
              "      <td>0</td>\n",
              "      <td>0</td>\n",
              "      <td>0</td>\n",
              "      <td>0</td>\n",
              "      <td>0</td>\n",
              "      <td>0</td>\n",
              "    </tr>\n",
              "    <tr>\n",
              "      <th>3</th>\n",
              "      <td>3.0</td>\n",
              "      <td>0.0</td>\n",
              "      <td>3.0</td>\n",
              "      <td>121581.0</td>\n",
              "      <td>0</td>\n",
              "      <td>1</td>\n",
              "      <td>0</td>\n",
              "      <td>0</td>\n",
              "      <td>0</td>\n",
              "      <td>1</td>\n",
              "      <td>...</td>\n",
              "      <td>0</td>\n",
              "      <td>0</td>\n",
              "      <td>0</td>\n",
              "      <td>0</td>\n",
              "      <td>0</td>\n",
              "      <td>0</td>\n",
              "      <td>0</td>\n",
              "      <td>0</td>\n",
              "      <td>0</td>\n",
              "      <td>0</td>\n",
              "    </tr>\n",
              "    <tr>\n",
              "      <th>4</th>\n",
              "      <td>20.0</td>\n",
              "      <td>0.0</td>\n",
              "      <td>20.0</td>\n",
              "      <td>83560.0</td>\n",
              "      <td>0</td>\n",
              "      <td>1</td>\n",
              "      <td>0</td>\n",
              "      <td>0</td>\n",
              "      <td>0</td>\n",
              "      <td>0</td>\n",
              "      <td>...</td>\n",
              "      <td>0</td>\n",
              "      <td>0</td>\n",
              "      <td>0</td>\n",
              "      <td>0</td>\n",
              "      <td>0</td>\n",
              "      <td>0</td>\n",
              "      <td>0</td>\n",
              "      <td>0</td>\n",
              "      <td>0</td>\n",
              "      <td>0</td>\n",
              "    </tr>\n",
              "    <tr>\n",
              "      <th>...</th>\n",
              "      <td>...</td>\n",
              "      <td>...</td>\n",
              "      <td>...</td>\n",
              "      <td>...</td>\n",
              "      <td>...</td>\n",
              "      <td>...</td>\n",
              "      <td>...</td>\n",
              "      <td>...</td>\n",
              "      <td>...</td>\n",
              "      <td>...</td>\n",
              "      <td>...</td>\n",
              "      <td>...</td>\n",
              "      <td>...</td>\n",
              "      <td>...</td>\n",
              "      <td>...</td>\n",
              "      <td>...</td>\n",
              "      <td>...</td>\n",
              "      <td>...</td>\n",
              "      <td>...</td>\n",
              "      <td>...</td>\n",
              "      <td>...</td>\n",
              "    </tr>\n",
              "    <tr>\n",
              "      <th>703215</th>\n",
              "      <td>1.0</td>\n",
              "      <td>0.0</td>\n",
              "      <td>1.0</td>\n",
              "      <td>144125.0</td>\n",
              "      <td>0</td>\n",
              "      <td>1</td>\n",
              "      <td>0</td>\n",
              "      <td>0</td>\n",
              "      <td>0</td>\n",
              "      <td>0</td>\n",
              "      <td>...</td>\n",
              "      <td>0</td>\n",
              "      <td>0</td>\n",
              "      <td>0</td>\n",
              "      <td>0</td>\n",
              "      <td>0</td>\n",
              "      <td>0</td>\n",
              "      <td>0</td>\n",
              "      <td>0</td>\n",
              "      <td>0</td>\n",
              "      <td>0</td>\n",
              "    </tr>\n",
              "    <tr>\n",
              "      <th>703216</th>\n",
              "      <td>1.0</td>\n",
              "      <td>0.0</td>\n",
              "      <td>1.0</td>\n",
              "      <td>144125.0</td>\n",
              "      <td>0</td>\n",
              "      <td>1</td>\n",
              "      <td>0</td>\n",
              "      <td>0</td>\n",
              "      <td>0</td>\n",
              "      <td>0</td>\n",
              "      <td>...</td>\n",
              "      <td>0</td>\n",
              "      <td>0</td>\n",
              "      <td>0</td>\n",
              "      <td>0</td>\n",
              "      <td>0</td>\n",
              "      <td>0</td>\n",
              "      <td>0</td>\n",
              "      <td>0</td>\n",
              "      <td>0</td>\n",
              "      <td>0</td>\n",
              "    </tr>\n",
              "    <tr>\n",
              "      <th>703217</th>\n",
              "      <td>1.0</td>\n",
              "      <td>0.0</td>\n",
              "      <td>1.0</td>\n",
              "      <td>144125.0</td>\n",
              "      <td>0</td>\n",
              "      <td>1</td>\n",
              "      <td>0</td>\n",
              "      <td>0</td>\n",
              "      <td>0</td>\n",
              "      <td>0</td>\n",
              "      <td>...</td>\n",
              "      <td>0</td>\n",
              "      <td>0</td>\n",
              "      <td>0</td>\n",
              "      <td>0</td>\n",
              "      <td>0</td>\n",
              "      <td>0</td>\n",
              "      <td>0</td>\n",
              "      <td>0</td>\n",
              "      <td>0</td>\n",
              "      <td>0</td>\n",
              "    </tr>\n",
              "    <tr>\n",
              "      <th>703218</th>\n",
              "      <td>1.0</td>\n",
              "      <td>0.0</td>\n",
              "      <td>1.0</td>\n",
              "      <td>144125.0</td>\n",
              "      <td>0</td>\n",
              "      <td>1</td>\n",
              "      <td>0</td>\n",
              "      <td>0</td>\n",
              "      <td>0</td>\n",
              "      <td>0</td>\n",
              "      <td>...</td>\n",
              "      <td>0</td>\n",
              "      <td>0</td>\n",
              "      <td>0</td>\n",
              "      <td>0</td>\n",
              "      <td>0</td>\n",
              "      <td>0</td>\n",
              "      <td>0</td>\n",
              "      <td>0</td>\n",
              "      <td>0</td>\n",
              "      <td>0</td>\n",
              "    </tr>\n",
              "    <tr>\n",
              "      <th>703219</th>\n",
              "      <td>1.0</td>\n",
              "      <td>0.0</td>\n",
              "      <td>1.0</td>\n",
              "      <td>144125.0</td>\n",
              "      <td>0</td>\n",
              "      <td>1</td>\n",
              "      <td>0</td>\n",
              "      <td>0</td>\n",
              "      <td>0</td>\n",
              "      <td>0</td>\n",
              "      <td>...</td>\n",
              "      <td>0</td>\n",
              "      <td>0</td>\n",
              "      <td>0</td>\n",
              "      <td>0</td>\n",
              "      <td>0</td>\n",
              "      <td>0</td>\n",
              "      <td>0</td>\n",
              "      <td>0</td>\n",
              "      <td>0</td>\n",
              "      <td>0</td>\n",
              "    </tr>\n",
              "  </tbody>\n",
              "</table>\n",
              "<p>222006 rows × 904 columns</p>\n",
              "</div>\n",
              "      <button class=\"colab-df-convert\" onclick=\"convertToInteractive('df-4a119757-0865-483e-a9e8-ff30d2280fc9')\"\n",
              "              title=\"Convert this dataframe to an interactive table.\"\n",
              "              style=\"display:none;\">\n",
              "        \n",
              "  <svg xmlns=\"http://www.w3.org/2000/svg\" height=\"24px\"viewBox=\"0 0 24 24\"\n",
              "       width=\"24px\">\n",
              "    <path d=\"M0 0h24v24H0V0z\" fill=\"none\"/>\n",
              "    <path d=\"M18.56 5.44l.94 2.06.94-2.06 2.06-.94-2.06-.94-.94-2.06-.94 2.06-2.06.94zm-11 1L8.5 8.5l.94-2.06 2.06-.94-2.06-.94L8.5 2.5l-.94 2.06-2.06.94zm10 10l.94 2.06.94-2.06 2.06-.94-2.06-.94-.94-2.06-.94 2.06-2.06.94z\"/><path d=\"M17.41 7.96l-1.37-1.37c-.4-.4-.92-.59-1.43-.59-.52 0-1.04.2-1.43.59L10.3 9.45l-7.72 7.72c-.78.78-.78 2.05 0 2.83L4 21.41c.39.39.9.59 1.41.59.51 0 1.02-.2 1.41-.59l7.78-7.78 2.81-2.81c.8-.78.8-2.07 0-2.86zM5.41 20L4 18.59l7.72-7.72 1.47 1.35L5.41 20z\"/>\n",
              "  </svg>\n",
              "      </button>\n",
              "      \n",
              "  <style>\n",
              "    .colab-df-container {\n",
              "      display:flex;\n",
              "      flex-wrap:wrap;\n",
              "      gap: 12px;\n",
              "    }\n",
              "\n",
              "    .colab-df-convert {\n",
              "      background-color: #E8F0FE;\n",
              "      border: none;\n",
              "      border-radius: 50%;\n",
              "      cursor: pointer;\n",
              "      display: none;\n",
              "      fill: #1967D2;\n",
              "      height: 32px;\n",
              "      padding: 0 0 0 0;\n",
              "      width: 32px;\n",
              "    }\n",
              "\n",
              "    .colab-df-convert:hover {\n",
              "      background-color: #E2EBFA;\n",
              "      box-shadow: 0px 1px 2px rgba(60, 64, 67, 0.3), 0px 1px 3px 1px rgba(60, 64, 67, 0.15);\n",
              "      fill: #174EA6;\n",
              "    }\n",
              "\n",
              "    [theme=dark] .colab-df-convert {\n",
              "      background-color: #3B4455;\n",
              "      fill: #D2E3FC;\n",
              "    }\n",
              "\n",
              "    [theme=dark] .colab-df-convert:hover {\n",
              "      background-color: #434B5C;\n",
              "      box-shadow: 0px 1px 3px 1px rgba(0, 0, 0, 0.15);\n",
              "      filter: drop-shadow(0px 1px 2px rgba(0, 0, 0, 0.3));\n",
              "      fill: #FFFFFF;\n",
              "    }\n",
              "  </style>\n",
              "\n",
              "      <script>\n",
              "        const buttonEl =\n",
              "          document.querySelector('#df-4a119757-0865-483e-a9e8-ff30d2280fc9 button.colab-df-convert');\n",
              "        buttonEl.style.display =\n",
              "          google.colab.kernel.accessAllowed ? 'block' : 'none';\n",
              "\n",
              "        async function convertToInteractive(key) {\n",
              "          const element = document.querySelector('#df-4a119757-0865-483e-a9e8-ff30d2280fc9');\n",
              "          const dataTable =\n",
              "            await google.colab.kernel.invokeFunction('convertToInteractive',\n",
              "                                                     [key], {});\n",
              "          if (!dataTable) return;\n",
              "\n",
              "          const docLinkHtml = 'Like what you see? Visit the ' +\n",
              "            '<a target=\"_blank\" href=https://colab.research.google.com/notebooks/data_table.ipynb>data table notebook</a>'\n",
              "            + ' to learn more about interactive tables.';\n",
              "          element.innerHTML = '';\n",
              "          dataTable['output_type'] = 'display_data';\n",
              "          await google.colab.output.renderOutput(dataTable, element);\n",
              "          const docLink = document.createElement('div');\n",
              "          docLink.innerHTML = docLinkHtml;\n",
              "          element.appendChild(docLink);\n",
              "        }\n",
              "      </script>\n",
              "    </div>\n",
              "  </div>\n",
              "  "
            ],
            "text/plain": [
              "        Cant. pedida  Cant. comprom.  Cant. factura  Valor bruto  \\\n",
              "0                2.0             0.0            2.0       8614.0   \n",
              "1                5.0             0.0            5.0    1984550.0   \n",
              "2                1.0             0.0            1.0     409165.0   \n",
              "3                3.0             0.0            3.0     121581.0   \n",
              "4               20.0             0.0           20.0      83560.0   \n",
              "...              ...             ...            ...          ...   \n",
              "703215           1.0             0.0            1.0     144125.0   \n",
              "703216           1.0             0.0            1.0     144125.0   \n",
              "703217           1.0             0.0            1.0     144125.0   \n",
              "703218           1.0             0.0            1.0     144125.0   \n",
              "703219           1.0             0.0            1.0     144125.0   \n",
              "\n",
              "        Estado movto._Comprometido  Estado movto._Cumplido  \\\n",
              "0                                0                       1   \n",
              "1                                0                       1   \n",
              "2                                0                       1   \n",
              "3                                0                       1   \n",
              "4                                0                       1   \n",
              "...                            ...                     ...   \n",
              "703215                           0                       1   \n",
              "703216                           0                       1   \n",
              "703217                           0                       1   \n",
              "703218                           0                       1   \n",
              "703219                           0                       1   \n",
              "\n",
              "        Desc. motivo_Gestion de Pendientes  Desc. motivo_Llamadas de Entrada  \\\n",
              "0                                        0                                 0   \n",
              "1                                        0                                 0   \n",
              "2                                        0                                 0   \n",
              "3                                        0                                 0   \n",
              "4                                        0                                 0   \n",
              "...                                    ...                               ...   \n",
              "703215                                   0                                 0   \n",
              "703216                                   0                                 0   \n",
              "703217                                   0                                 0   \n",
              "703218                                   0                                 0   \n",
              "703219                                   0                                 0   \n",
              "\n",
              "        Desc. motivo_Llamadas de Salida  Desc. motivo_Pedidos Vendedores  ...  \\\n",
              "0                                     0                                0  ...   \n",
              "1                                     1                                0  ...   \n",
              "2                                     0                                1  ...   \n",
              "3                                     0                                1  ...   \n",
              "4                                     0                                0  ...   \n",
              "...                                 ...                              ...  ...   \n",
              "703215                                0                                0  ...   \n",
              "703216                                0                                0  ...   \n",
              "703217                                0                                0  ...   \n",
              "703218                                0                                0  ...   \n",
              "703219                                0                                0  ...   \n",
              "\n",
              "        Ciudad_887.0  Ciudad_890.0  Ciudad_892.0  Ciudad_893.0  Ciudad_894.0  \\\n",
              "0                  0             0             0             0             0   \n",
              "1                  0             0             0             0             0   \n",
              "2                  0             0             0             0             0   \n",
              "3                  0             0             0             0             0   \n",
              "4                  0             0             0             0             0   \n",
              "...              ...           ...           ...           ...           ...   \n",
              "703215             0             0             0             0             0   \n",
              "703216             0             0             0             0             0   \n",
              "703217             0             0             0             0             0   \n",
              "703218             0             0             0             0             0   \n",
              "703219             0             0             0             0             0   \n",
              "\n",
              "        Ciudad_895.0  Ciudad_897.0  Ciudad_899.0  Ciudad_960.0  Ciudad_980.0  \n",
              "0                  0             0             0             0             0  \n",
              "1                  0             0             0             0             0  \n",
              "2                  0             0             0             0             0  \n",
              "3                  0             0             0             0             0  \n",
              "4                  0             0             0             0             0  \n",
              "...              ...           ...           ...           ...           ...  \n",
              "703215             0             0             0             0             0  \n",
              "703216             0             0             0             0             0  \n",
              "703217             0             0             0             0             0  \n",
              "703218             0             0             0             0             0  \n",
              "703219             0             0             0             0             0  \n",
              "\n",
              "[222006 rows x 904 columns]"
            ]
          },
          "metadata": {},
          "output_type": "display_data"
        }
      ],
      "source": [
        "X = pd.concat([cuantitativas, data_Dummy], axis = 1)\n",
        "display(X)"
      ]
    },
    {
      "cell_type": "markdown",
      "metadata": {
        "id": "JT-B-OOAIVkD"
      },
      "source": [
        "Por la regla de negocia esta clasificación del porducto es la más importante pues determina que tanto representa de la venta total de Dyna"
      ]
    },
    {
      "cell_type": "code",
      "execution_count": 43,
      "metadata": {
        "id": "j9zyZwQEIvfs"
      },
      "outputs": [],
      "source": [
        "MM = MinMaxScaler()\n",
        "X_Norm = MM.fit_transform(X)\n",
        "Nombres = X.columns\n",
        "X_Norm = pd.DataFrame(X_Norm, columns = Nombres)"
      ]
    },
    {
      "cell_type": "code",
      "execution_count": 44,
      "metadata": {
        "id": "8H-fm_56OGsl"
      },
      "outputs": [],
      "source": [
        "X_limpios = X_Norm.copy(deep=True)  #datos para el analisis Cluster"
      ]
    },
    {
      "cell_type": "markdown",
      "metadata": {
        "id": "5shFAvmMz5Wa"
      },
      "source": [
        "## REDUCCIÓN DE LA DIMENSIONALIDAD"
      ]
    },
    {
      "cell_type": "code",
      "execution_count": 45,
      "metadata": {
        "id": "wMApVmjdxMXQ"
      },
      "outputs": [],
      "source": [
        "Num_Componentes = X_Norm.shape[1]\n",
        "\n",
        "pca = PCA(iterated_power='auto', n_components = Num_Componentes, random_state = 17, svd_solver='auto', tol = 1e-3, whiten = False)\n",
        "\n",
        "# El número de componentes debe ser menor o igual al número de características de los datos."
      ]
    },
    {
      "cell_type": "code",
      "execution_count": 46,
      "metadata": {
        "id": "pNK25vd91LUQ"
      },
      "outputs": [],
      "source": [
        "Variables_Principales = pca.fit_transform(X_Norm) \n",
        "# Transformarmos las componentes principales a partir de los datos"
      ]
    },
    {
      "cell_type": "code",
      "execution_count": 47,
      "metadata": {
        "colab": {
          "base_uri": "https://localhost:8080/",
          "height": 716
        },
        "id": "urXES0Ba2KVL",
        "outputId": "d22a3efa-0c7c-4299-8d3c-c388a64fb06b"
      },
      "outputs": [
        {
          "data": {
            "image/png": "[encoded data removed]",
            "text/plain": [
              "<Figure size 1500x800 with 1 Axes>"
            ]
          },
          "metadata": {},
          "output_type": "display_data"
        }
      ],
      "source": [
        "Varianza = pca.explained_variance_ratio_ # Calculamos la tasa de varianza de las componentes y generamos las componentes principales\n",
        "\n",
        "fig = plt.figure(figsize=(15,8))\n",
        "plt.bar(np.arange(len(Varianza)), Varianza)\n",
        "plt.xlabel('Componentes Principales')\n",
        "plt.ylabel('Tasa de Varianza')\n",
        "plt.title('PCA')\n",
        "plt.xlim(0, len(Varianza))\n",
        "plt.show()"
      ]
    },
    {
      "cell_type": "code",
      "execution_count": 48,
      "metadata": {
        "colab": {
          "base_uri": "https://localhost:8080/"
        },
        "id": "Wxc1UwXT2uL4",
        "outputId": "f98d4799-92b7-49c6-926d-c9a25484c750"
      },
      "outputs": [
        {
          "name": "stdout",
          "output_type": "stream",
          "text": [
            "Porcentaje de Varianza detectada para las primeras 5 componentes:  [31.17243143]\n",
            "Porcentaje de Varianza detectada para las primeras 10 componentes:  [44.42645608]\n",
            "Porcentaje de Varianza detectada para las primeras 20 componentes:  [58.30427832]\n",
            "Porcentaje de Varianza detectada para las primeras 40 componentes:  [70.77818255]\n",
            "Porcentaje de Varianza detectada para las primeras 80 componentes:  [81.69395711]\n",
            "Porcentaje de Varianza detectada para las primeras 160 componentes:  [89.83407912]\n"
          ]
        }
      ],
      "source": [
        "Importancia_Componentes = pd.DataFrame(Varianza)\n",
        "Importancia_Componentes = Importancia_Componentes.T\n",
        "print(\"Porcentaje de Varianza detectada para las primeras 5 componentes: \", format(100*Importancia_Componentes.loc[:,0:4].sum(axis = 1).values))\n",
        "print(\"Porcentaje de Varianza detectada para las primeras 10 componentes: \", format(100*Importancia_Componentes.loc[:,0:9].sum(axis = 1).values))\n",
        "print(\"Porcentaje de Varianza detectada para las primeras 20 componentes: \", format(100*Importancia_Componentes.loc[:,0:19].sum(axis = 1).values))\n",
        "print(\"Porcentaje de Varianza detectada para las primeras 40 componentes: \", format(100*Importancia_Componentes.loc[:,0:39].sum(axis = 1).values))\n",
        "print(\"Porcentaje de Varianza detectada para las primeras 80 componentes: \", format(100*Importancia_Componentes.loc[:,0:79].sum(axis = 1).values))\n",
        "print(\"Porcentaje de Varianza detectada para las primeras 160 componentes: \", format(100*Importancia_Componentes.loc[:,0:159].sum(axis = 1).values))"
      ]
    },
    {
      "cell_type": "markdown",
      "metadata": {
        "id": "pNIg91-UBIcq"
      },
      "source": [
        "Observe que al seleccionar las 160 primeras componentes, se está representando casi el 90% de toda la información y a medida que se aumenta el número de componentes principales, se incrementa el porcentaje de toda la información, sin embargo aumenta muy poco."
      ]
    },
    {
      "cell_type": "code",
      "execution_count": 49,
      "metadata": {
        "colab": {
          "base_uri": "https://localhost:8080/"
        },
        "id": "p8LtY4kHEBBM",
        "outputId": "f8b6f7db-3b2b-46a3-cf81-e66562ff5edd"
      },
      "outputs": [
        {
          "name": "stdout",
          "output_type": "stream",
          "text": [
            "Tamaño de los datos originales con MinMax:  (222006, 904)\n",
            "Tamaño de los datos reducidos:  (222006, 160)\n",
            "Porcentaje de la varianza explicada con las componentes seleccionadas: 89.83%\n"
          ]
        }
      ],
      "source": [
        "Componentes_Seleccionadas = 160 \n",
        "\n",
        "Tasa_Varianza_Explicada = np.sum(Varianza[0:Componentes_Seleccionadas])\n",
        "Nuevas_Componentes = PCA(Tasa_Varianza_Explicada, random_state = 17, svd_solver='auto', tol = 1e-3, whiten = False)\n",
        "\n",
        "X_Norm_PCA = Nuevas_Componentes.fit_transform(X_Norm) \n",
        "\n",
        "print('Tamaño de los datos originales con MinMax: ', X_Norm.shape) # Tamaño de los datos originales\n",
        "print('Tamaño de los datos reducidos: ', X_Norm_PCA.shape)  # Tamaño de los datos reducidos\n",
        "print(\"Porcentaje de la varianza explicada con las componentes seleccionadas: {:.2f}%\".format(Tasa_Varianza_Explicada*100))"
      ]
    },
    {
      "cell_type": "code",
      "execution_count": 50,
      "metadata": {
        "id": "NbEATTz2P_MY"
      },
      "outputs": [],
      "source": [
        "X_dim = X_Norm_PCA.copy()"
      ]
    },
    {
      "cell_type": "markdown",
      "metadata": {
        "id": "Bi2T-03yJ1tD"
      },
      "source": [
        "##CLUSTERING"
      ]
    },
    {
      "cell_type": "markdown",
      "metadata": {
        "id": "InYKkj-6PGW8"
      },
      "source": [
        "A partir del item anterior, se desea obtener el mejor agrupamiento de datos. Para esta tarea, se propone hacer una comparación entre:\n",
        "\n",
        "1.   Agrupamiento de datos con los datos limpios del item \"Exploración de Datos\".\n",
        "2.   Agrupamiento de datos con los datos reducidos del item \"Reducción de Dimensionalidad\"."
      ]
    },
    {
      "cell_type": "markdown",
      "metadata": {
        "id": "GuzvwF2hPODk"
      },
      "source": [
        "*  X_limpios : Datos codificados, normalizados y sin outliers (Caracteristicas \n",
        "originales)\n",
        "*  X_comp : Datos representados a traves de componentes"
      ]
    },
    {
      "cell_type": "code",
      "execution_count": 51,
      "metadata": {
        "colab": {
          "base_uri": "https://localhost:8080/"
        },
        "id": "WVyDVfbhPQHA",
        "outputId": "c77ef4ce-bab2-44a6-daa3-715d3560f727"
      },
      "outputs": [
        {
          "name": "stdout",
          "output_type": "stream",
          "text": [
            "<class 'pandas.core.frame.DataFrame'>\n",
            "RangeIndex: 222006 entries, 0 to 222005\n",
            "Columns: 904 entries, Cant. pedida to Ciudad_980.0\n",
            "dtypes: float64(904)\n",
            "memory usage: 1.5 GB\n"
          ]
        }
      ],
      "source": [
        "X_limpios.info()"
      ]
    },
    {
      "cell_type": "code",
      "execution_count": 52,
      "metadata": {
        "id": "kfDeSbvsR0Hj"
      },
      "outputs": [],
      "source": [
        "columnas = []\n",
        "for i in range(1,161):\n",
        "  columnas.append(f'Comp_{i}')"
      ]
    },
    {
      "cell_type": "code",
      "execution_count": 53,
      "metadata": {
        "id": "B_K_-Va9Ph8p"
      },
      "outputs": [],
      "source": [
        "X_comp = pd.DataFrame(data=X_dim, columns=columnas)"
      ]
    },
    {
      "cell_type": "code",
      "execution_count": 54,
      "metadata": {
        "colab": {
          "base_uri": "https://localhost:8080/",
          "height": 299
        },
        "id": "dK4AUdl6TNOf",
        "outputId": "40ca6f18-7750-469a-c27d-8c898fc38260"
      },
      "outputs": [
        {
          "data": {
            "text/html": [
              "\n",
              "  <div id=\"df-d233194c-0742-4cd2-836e-3351b77dc86c\">\n",
              "    <div class=\"colab-df-container\">\n",
              "      <div>\n",
              "<style scoped>\n",
              "    .dataframe tbody tr th:only-of-type {\n",
              "        vertical-align: middle;\n",
              "    }\n",
              "\n",
              "    .dataframe tbody tr th {\n",
              "        vertical-align: top;\n",
              "    }\n",
              "\n",
              "    .dataframe thead th {\n",
              "        text-align: right;\n",
              "    }\n",
              "</style>\n",
              "<table border=\"1\" class=\"dataframe\">\n",
              "  <thead>\n",
              "    <tr style=\"text-align: right;\">\n",
              "      <th></th>\n",
              "      <th>Comp_1</th>\n",
              "      <th>Comp_2</th>\n",
              "      <th>Comp_3</th>\n",
              "      <th>Comp_4</th>\n",
              "      <th>Comp_5</th>\n",
              "      <th>Comp_6</th>\n",
              "      <th>Comp_7</th>\n",
              "      <th>Comp_8</th>\n",
              "      <th>Comp_9</th>\n",
              "      <th>Comp_10</th>\n",
              "      <th>...</th>\n",
              "      <th>Comp_151</th>\n",
              "      <th>Comp_152</th>\n",
              "      <th>Comp_153</th>\n",
              "      <th>Comp_154</th>\n",
              "      <th>Comp_155</th>\n",
              "      <th>Comp_156</th>\n",
              "      <th>Comp_157</th>\n",
              "      <th>Comp_158</th>\n",
              "      <th>Comp_159</th>\n",
              "      <th>Comp_160</th>\n",
              "    </tr>\n",
              "  </thead>\n",
              "  <tbody>\n",
              "    <tr>\n",
              "      <th>0</th>\n",
              "      <td>-0.271121</td>\n",
              "      <td>0.016497</td>\n",
              "      <td>0.974090</td>\n",
              "      <td>-0.079179</td>\n",
              "      <td>-0.026857</td>\n",
              "      <td>-0.344674</td>\n",
              "      <td>0.196263</td>\n",
              "      <td>-0.118576</td>\n",
              "      <td>-0.069813</td>\n",
              "      <td>0.167089</td>\n",
              "      <td>...</td>\n",
              "      <td>0.003021</td>\n",
              "      <td>-0.001384</td>\n",
              "      <td>0.010343</td>\n",
              "      <td>-0.005701</td>\n",
              "      <td>0.014040</td>\n",
              "      <td>-0.018197</td>\n",
              "      <td>0.009413</td>\n",
              "      <td>0.000121</td>\n",
              "      <td>0.008561</td>\n",
              "      <td>0.003664</td>\n",
              "    </tr>\n",
              "    <tr>\n",
              "      <th>1</th>\n",
              "      <td>-0.278054</td>\n",
              "      <td>-0.025979</td>\n",
              "      <td>0.580637</td>\n",
              "      <td>-0.084003</td>\n",
              "      <td>0.020910</td>\n",
              "      <td>-0.195421</td>\n",
              "      <td>0.197398</td>\n",
              "      <td>0.284839</td>\n",
              "      <td>0.069089</td>\n",
              "      <td>0.073972</td>\n",
              "      <td>...</td>\n",
              "      <td>0.006028</td>\n",
              "      <td>0.003456</td>\n",
              "      <td>-0.003291</td>\n",
              "      <td>-0.000084</td>\n",
              "      <td>-0.007981</td>\n",
              "      <td>-0.002436</td>\n",
              "      <td>-0.002078</td>\n",
              "      <td>-0.017250</td>\n",
              "      <td>0.001446</td>\n",
              "      <td>-0.005474</td>\n",
              "    </tr>\n",
              "    <tr>\n",
              "      <th>2</th>\n",
              "      <td>-0.311275</td>\n",
              "      <td>-0.052440</td>\n",
              "      <td>-0.348697</td>\n",
              "      <td>0.045559</td>\n",
              "      <td>0.020690</td>\n",
              "      <td>-0.399928</td>\n",
              "      <td>0.203453</td>\n",
              "      <td>0.038160</td>\n",
              "      <td>-0.043366</td>\n",
              "      <td>0.072407</td>\n",
              "      <td>...</td>\n",
              "      <td>0.004690</td>\n",
              "      <td>0.013480</td>\n",
              "      <td>-0.013541</td>\n",
              "      <td>-0.010738</td>\n",
              "      <td>0.005182</td>\n",
              "      <td>-0.012920</td>\n",
              "      <td>0.020364</td>\n",
              "      <td>0.000057</td>\n",
              "      <td>-0.017919</td>\n",
              "      <td>-0.038961</td>\n",
              "    </tr>\n",
              "    <tr>\n",
              "      <th>3</th>\n",
              "      <td>-0.370904</td>\n",
              "      <td>-0.001007</td>\n",
              "      <td>-0.439594</td>\n",
              "      <td>-0.091424</td>\n",
              "      <td>0.258618</td>\n",
              "      <td>0.614677</td>\n",
              "      <td>0.233211</td>\n",
              "      <td>0.036453</td>\n",
              "      <td>0.019081</td>\n",
              "      <td>0.128469</td>\n",
              "      <td>...</td>\n",
              "      <td>0.005502</td>\n",
              "      <td>0.015178</td>\n",
              "      <td>-0.001869</td>\n",
              "      <td>-0.008073</td>\n",
              "      <td>0.010888</td>\n",
              "      <td>-0.016002</td>\n",
              "      <td>0.000593</td>\n",
              "      <td>-0.008829</td>\n",
              "      <td>0.002396</td>\n",
              "      <td>0.015483</td>\n",
              "    </tr>\n",
              "    <tr>\n",
              "      <th>4</th>\n",
              "      <td>-0.323135</td>\n",
              "      <td>-0.015157</td>\n",
              "      <td>0.449936</td>\n",
              "      <td>-0.217295</td>\n",
              "      <td>0.243915</td>\n",
              "      <td>0.760980</td>\n",
              "      <td>0.208113</td>\n",
              "      <td>0.206734</td>\n",
              "      <td>-0.053343</td>\n",
              "      <td>0.046113</td>\n",
              "      <td>...</td>\n",
              "      <td>-0.007786</td>\n",
              "      <td>-0.003264</td>\n",
              "      <td>-0.010869</td>\n",
              "      <td>-0.010211</td>\n",
              "      <td>0.013710</td>\n",
              "      <td>-0.028562</td>\n",
              "      <td>-0.004117</td>\n",
              "      <td>-0.012389</td>\n",
              "      <td>0.003531</td>\n",
              "      <td>0.012043</td>\n",
              "    </tr>\n",
              "  </tbody>\n",
              "</table>\n",
              "<p>5 rows × 160 columns</p>\n",
              "</div>\n",
              "      <button class=\"colab-df-convert\" onclick=\"convertToInteractive('df-d233194c-0742-4cd2-836e-3351b77dc86c')\"\n",
              "              title=\"Convert this dataframe to an interactive table.\"\n",
              "              style=\"display:none;\">\n",
              "        \n",
              "  <svg xmlns=\"http://www.w3.org/2000/svg\" height=\"24px\"viewBox=\"0 0 24 24\"\n",
              "       width=\"24px\">\n",
              "    <path d=\"M0 0h24v24H0V0z\" fill=\"none\"/>\n",
              "    <path d=\"M18.56 5.44l.94 2.06.94-2.06 2.06-.94-2.06-.94-.94-2.06-.94 2.06-2.06.94zm-11 1L8.5 8.5l.94-2.06 2.06-.94-2.06-.94L8.5 2.5l-.94 2.06-2.06.94zm10 10l.94 2.06.94-2.06 2.06-.94-2.06-.94-.94-2.06-.94 2.06-2.06.94z\"/><path d=\"M17.41 7.96l-1.37-1.37c-.4-.4-.92-.59-1.43-.59-.52 0-1.04.2-1.43.59L10.3 9.45l-7.72 7.72c-.78.78-.78 2.05 0 2.83L4 21.41c.39.39.9.59 1.41.59.51 0 1.02-.2 1.41-.59l7.78-7.78 2.81-2.81c.8-.78.8-2.07 0-2.86zM5.41 20L4 18.59l7.72-7.72 1.47 1.35L5.41 20z\"/>\n",
              "  </svg>\n",
              "      </button>\n",
              "      \n",
              "  <style>\n",
              "    .colab-df-container {\n",
              "      display:flex;\n",
              "      flex-wrap:wrap;\n",
              "      gap: 12px;\n",
              "    }\n",
              "\n",
              "    .colab-df-convert {\n",
              "      background-color: #E8F0FE;\n",
              "      border: none;\n",
              "      border-radius: 50%;\n",
              "      cursor: pointer;\n",
              "      display: none;\n",
              "      fill: #1967D2;\n",
              "      height: 32px;\n",
              "      padding: 0 0 0 0;\n",
              "      width: 32px;\n",
              "    }\n",
              "\n",
              "    .colab-df-convert:hover {\n",
              "      background-color: #E2EBFA;\n",
              "      box-shadow: 0px 1px 2px rgba(60, 64, 67, 0.3), 0px 1px 3px 1px rgba(60, 64, 67, 0.15);\n",
              "      fill: #174EA6;\n",
              "    }\n",
              "\n",
              "    [theme=dark] .colab-df-convert {\n",
              "      background-color: #3B4455;\n",
              "      fill: #D2E3FC;\n",
              "    }\n",
              "\n",
              "    [theme=dark] .colab-df-convert:hover {\n",
              "      background-color: #434B5C;\n",
              "      box-shadow: 0px 1px 3px 1px rgba(0, 0, 0, 0.15);\n",
              "      filter: drop-shadow(0px 1px 2px rgba(0, 0, 0, 0.3));\n",
              "      fill: #FFFFFF;\n",
              "    }\n",
              "  </style>\n",
              "\n",
              "      <script>\n",
              "        const buttonEl =\n",
              "          document.querySelector('#df-d233194c-0742-4cd2-836e-3351b77dc86c button.colab-df-convert');\n",
              "        buttonEl.style.display =\n",
              "          google.colab.kernel.accessAllowed ? 'block' : 'none';\n",
              "\n",
              "        async function convertToInteractive(key) {\n",
              "          const element = document.querySelector('#df-d233194c-0742-4cd2-836e-3351b77dc86c');\n",
              "          const dataTable =\n",
              "            await google.colab.kernel.invokeFunction('convertToInteractive',\n",
              "                                                     [key], {});\n",
              "          if (!dataTable) return;\n",
              "\n",
              "          const docLinkHtml = 'Like what you see? Visit the ' +\n",
              "            '<a target=\"_blank\" href=https://colab.research.google.com/notebooks/data_table.ipynb>data table notebook</a>'\n",
              "            + ' to learn more about interactive tables.';\n",
              "          element.innerHTML = '';\n",
              "          dataTable['output_type'] = 'display_data';\n",
              "          await google.colab.output.renderOutput(dataTable, element);\n",
              "          const docLink = document.createElement('div');\n",
              "          docLink.innerHTML = docLinkHtml;\n",
              "          element.appendChild(docLink);\n",
              "        }\n",
              "      </script>\n",
              "    </div>\n",
              "  </div>\n",
              "  "
            ],
            "text/plain": [
              "     Comp_1    Comp_2    Comp_3    Comp_4    Comp_5    Comp_6    Comp_7  \\\n",
              "0 -0.271121  0.016497  0.974090 -0.079179 -0.026857 -0.344674  0.196263   \n",
              "1 -0.278054 -0.025979  0.580637 -0.084003  0.020910 -0.195421  0.197398   \n",
              "2 -0.311275 -0.052440 -0.348697  0.045559  0.020690 -0.399928  0.203453   \n",
              "3 -0.370904 -0.001007 -0.439594 -0.091424  0.258618  0.614677  0.233211   \n",
              "4 -0.323135 -0.015157  0.449936 -0.217295  0.243915  0.760980  0.208113   \n",
              "\n",
              "     Comp_8    Comp_9   Comp_10  ...  Comp_151  Comp_152  Comp_153  Comp_154  \\\n",
              "0 -0.118576 -0.069813  0.167089  ...  0.003021 -0.001384  0.010343 -0.005701   \n",
              "1  0.284839  0.069089  0.073972  ...  0.006028  0.003456 -0.003291 -0.000084   \n",
              "2  0.038160 -0.043366  0.072407  ...  0.004690  0.013480 -0.013541 -0.010738   \n",
              "3  0.036453  0.019081  0.128469  ...  0.005502  0.015178 -0.001869 -0.008073   \n",
              "4  0.206734 -0.053343  0.046113  ... -0.007786 -0.003264 -0.010869 -0.010211   \n",
              "\n",
              "   Comp_155  Comp_156  Comp_157  Comp_158  Comp_159  Comp_160  \n",
              "0  0.014040 -0.018197  0.009413  0.000121  0.008561  0.003664  \n",
              "1 -0.007981 -0.002436 -0.002078 -0.017250  0.001446 -0.005474  \n",
              "2  0.005182 -0.012920  0.020364  0.000057 -0.017919 -0.038961  \n",
              "3  0.010888 -0.016002  0.000593 -0.008829  0.002396  0.015483  \n",
              "4  0.013710 -0.028562 -0.004117 -0.012389  0.003531  0.012043  \n",
              "\n",
              "[5 rows x 160 columns]"
            ]
          },
          "execution_count": 54,
          "metadata": {},
          "output_type": "execute_result"
        }
      ],
      "source": [
        "X_comp.head()"
      ]
    },
    {
      "cell_type": "markdown",
      "metadata": {
        "id": "A1BEMO2men4b"
      },
      "source": [
        "CREAR SOLO 2 CLUSTER\n"
      ]
    },
    {
      "cell_type": "code",
      "execution_count": 55,
      "metadata": {
        "colab": {
          "base_uri": "https://localhost:8080/",
          "height": 168
        },
        "id": "W5PBmpF0UsHk",
        "outputId": "86d25467-187b-466a-aad7-b38dfc544911"
      },
      "outputs": [
        {
          "name": "stderr",
          "output_type": "stream",
          "text": [
            "/usr/local/lib/python3.10/dist-packages/sklearn/cluster/_kmeans.py:870: FutureWarning: The default value of `n_init` will change from 10 to 'auto' in 1.4. Set the value of `n_init` explicitly to suppress the warning\n",
            "  warnings.warn(\n",
            "/usr/local/lib/python3.10/dist-packages/sklearn/cluster/_kmeans.py:870: FutureWarning: The default value of `n_init` will change from 10 to 'auto' in 1.4. Set the value of `n_init` explicitly to suppress the warning\n",
            "  warnings.warn(\n"
          ]
        },
        {
          "data": {
            "text/html": [
              "<style>#sk-container-id-1 {color: black;background-color: white;}#sk-container-id-1 pre{padding: 0;}#sk-container-id-1 div.sk-toggleable {background-color: white;}#sk-container-id-1 label.sk-toggleable__label {cursor: pointer;display: block;width: 100%;margin-bottom: 0;padding: 0.3em;box-sizing: border-box;text-align: center;}#sk-container-id-1 label.sk-toggleable__label-arrow:before {content: \"▸\";float: left;margin-right: 0.25em;color: #696969;}#sk-container-id-1 label.sk-toggleable__label-arrow:hover:before {color: black;}#sk-container-id-1 div.sk-estimator:hover label.sk-toggleable__label-arrow:before {color: black;}#sk-container-id-1 div.sk-toggleable__content {max-height: 0;max-width: 0;overflow: hidden;text-align: left;background-color: #f0f8ff;}#sk-container-id-1 div.sk-toggleable__content pre {margin: 0.2em;color: black;border-radius: 0.25em;background-color: #f0f8ff;}#sk-container-id-1 input.sk-toggleable__control:checked~div.sk-toggleable__content {max-height: 200px;max-width: 100%;overflow: auto;}#sk-container-id-1 input.sk-toggleable__control:checked~label.sk-toggleable__label-arrow:before {content: \"▾\";}#sk-container-id-1 div.sk-estimator input.sk-toggleable__control:checked~label.sk-toggleable__label {background-color: #d4ebff;}#sk-container-id-1 div.sk-label input.sk-toggleable__control:checked~label.sk-toggleable__label {background-color: #d4ebff;}#sk-container-id-1 input.sk-hidden--visually {border: 0;clip: rect(1px 1px 1px 1px);clip: rect(1px, 1px, 1px, 1px);height: 1px;margin: -1px;overflow: hidden;padding: 0;position: absolute;width: 1px;}#sk-container-id-1 div.sk-estimator {font-family: monospace;background-color: #f0f8ff;border: 1px dotted black;border-radius: 0.25em;box-sizing: border-box;margin-bottom: 0.5em;}#sk-container-id-1 div.sk-estimator:hover {background-color: #d4ebff;}#sk-container-id-1 div.sk-parallel-item::after {content: \"\";width: 100%;border-bottom: 1px solid gray;flex-grow: 1;}#sk-container-id-1 div.sk-label:hover label.sk-toggleable__label {background-color: #d4ebff;}#sk-container-id-1 div.sk-serial::before {content: \"\";position: absolute;border-left: 1px solid gray;box-sizing: border-box;top: 0;bottom: 0;left: 50%;z-index: 0;}#sk-container-id-1 div.sk-serial {display: flex;flex-direction: column;align-items: center;background-color: white;padding-right: 0.2em;padding-left: 0.2em;position: relative;}#sk-container-id-1 div.sk-item {position: relative;z-index: 1;}#sk-container-id-1 div.sk-parallel {display: flex;align-items: stretch;justify-content: center;background-color: white;position: relative;}#sk-container-id-1 div.sk-item::before, #sk-container-id-1 div.sk-parallel-item::before {content: \"\";position: absolute;border-left: 1px solid gray;box-sizing: border-box;top: 0;bottom: 0;left: 50%;z-index: -1;}#sk-container-id-1 div.sk-parallel-item {display: flex;flex-direction: column;z-index: 1;position: relative;background-color: white;}#sk-container-id-1 div.sk-parallel-item:first-child::after {align-self: flex-end;width: 50%;}#sk-container-id-1 div.sk-parallel-item:last-child::after {align-self: flex-start;width: 50%;}#sk-container-id-1 div.sk-parallel-item:only-child::after {width: 0;}#sk-container-id-1 div.sk-dashed-wrapped {border: 1px dashed gray;margin: 0 0.4em 0.5em 0.4em;box-sizing: border-box;padding-bottom: 0.4em;background-color: white;}#sk-container-id-1 div.sk-label label {font-family: monospace;font-weight: bold;display: inline-block;line-height: 1.2em;}#sk-container-id-1 div.sk-label-container {text-align: center;}#sk-container-id-1 div.sk-container {/* jupyter's `normalize.less` sets `[hidden] { display: none; }` but bootstrap.min.css set `[hidden] { display: none !important; }` so we also need the `!important` here to be able to override the default hidden behavior on the sphinx rendered scikit-learn.org. See: https://github.com/scikit-learn/scikit-learn/issues/21755 */display: inline-block !important;position: relative;}#sk-container-id-1 div.sk-text-repr-fallback {display: none;}</style><div id=\"sk-container-id-1\" class=\"sk-top-container\"><div class=\"sk-text-repr-fallback\"><pre>KMeans(max_iter=1000, n_clusters=2, random_state=17)</pre><b>In a Jupyter environment, please rerun this cell to show the HTML representation or trust the notebook. <br />On GitHub, the HTML representation is unable to render, please try loading this page with nbviewer.org.</b></div><div class=\"sk-container\" hidden><div class=\"sk-item\"><div class=\"sk-estimator sk-toggleable\"><input class=\"sk-toggleable__control sk-hidden--visually\" id=\"sk-estimator-id-1\" type=\"checkbox\" checked><label for=\"sk-estimator-id-1\" class=\"sk-toggleable__label sk-toggleable__label-arrow\">KMeans</label><div class=\"sk-toggleable__content\"><pre>KMeans(max_iter=1000, n_clusters=2, random_state=17)</pre></div></div></div></div></div>"
            ],
            "text/plain": [
              "KMeans(max_iter=1000, n_clusters=2, random_state=17)"
            ]
          },
          "execution_count": 55,
          "metadata": {},
          "output_type": "execute_result"
        }
      ],
      "source": [
        "Numero_Clusters = 2\n",
        "error = 1e-4\n",
        "max_iteraciones = 1000\n",
        "\n",
        "Modelo_Kmeans_X_limpios = KMeans(n_clusters = Numero_Clusters, max_iter = max_iteraciones, \n",
        "                       tol = error,random_state = 17)\n",
        "Modelo_Kmeans_X_comp = KMeans(n_clusters = Numero_Clusters, max_iter = max_iteraciones, \n",
        "                       tol = error,random_state = 17)\n",
        "Modelo_Kmeans_X_limpios.fit(X_limpios) # Experimento 1: Agrupar con los datos originales normalizados (caracteristicas)\n",
        "Modelo_Kmeans_X_comp.fit(X_comp) # Experimento 2: Agrupar a traves de las componentes"
      ]
    },
    {
      "cell_type": "code",
      "execution_count": 56,
      "metadata": {
        "id": "1Rk3z1evU3ZX"
      },
      "outputs": [],
      "source": [
        "# Vamos a usar K-Means y a extraer los vectores de clases de cada modelo\n",
        "\n",
        "Clases_X_limpios = Modelo_Kmeans_X_limpios.labels_\n",
        "Clases_X_comp = Modelo_Kmeans_X_comp.labels_"
      ]
    },
    {
      "cell_type": "code",
      "execution_count": 57,
      "metadata": {
        "colab": {
          "base_uri": "https://localhost:8080/"
        },
        "id": "xCOvLhpIVTdb",
        "outputId": "27021cf3-511b-4018-9fac-56fa4050d421"
      },
      "outputs": [
        {
          "data": {
            "text/plain": [
              "array([0, 0, 0, ..., 1, 1, 1], dtype=int32)"
            ]
          },
          "execution_count": 57,
          "metadata": {},
          "output_type": "execute_result"
        }
      ],
      "source": [
        "Clases_X_limpios"
      ]
    },
    {
      "cell_type": "code",
      "execution_count": 58,
      "metadata": {
        "colab": {
          "base_uri": "https://localhost:8080/"
        },
        "id": "AG4iEB9LVVlR",
        "outputId": "2a1ce26f-ac6e-42c9-f252-3e4b3ee36388"
      },
      "outputs": [
        {
          "data": {
            "text/plain": [
              "array([1, 1, 1, ..., 0, 0, 0], dtype=int32)"
            ]
          },
          "execution_count": 58,
          "metadata": {},
          "output_type": "execute_result"
        }
      ],
      "source": [
        "Clases_X_comp"
      ]
    },
    {
      "cell_type": "code",
      "execution_count": 59,
      "metadata": {
        "id": "4VSE1ROoVaaD"
      },
      "outputs": [],
      "source": [
        "centros_X_limpios = Modelo_Kmeans_X_limpios.cluster_centers_\n",
        "centros_X_comp = Modelo_Kmeans_X_comp.cluster_centers_"
      ]
    },
    {
      "cell_type": "code",
      "execution_count": 60,
      "metadata": {
        "colab": {
          "base_uri": "https://localhost:8080/"
        },
        "id": "1fGcXP3NVeo-",
        "outputId": "790a87ee-f2ad-4e29-fb97-4163015c028d"
      },
      "outputs": [
        {
          "data": {
            "text/plain": [
              "(2, 904)"
            ]
          },
          "execution_count": 60,
          "metadata": {},
          "output_type": "execute_result"
        }
      ],
      "source": [
        "centros_X_limpios.shape"
      ]
    },
    {
      "cell_type": "code",
      "execution_count": 61,
      "metadata": {
        "colab": {
          "base_uri": "https://localhost:8080/"
        },
        "id": "LwzQgavSWP6k",
        "outputId": "fcbd2de6-7fd3-4dac-9a66-208c167ad8e9"
      },
      "outputs": [
        {
          "data": {
            "text/plain": [
              "(2, 160)"
            ]
          },
          "execution_count": 61,
          "metadata": {},
          "output_type": "execute_result"
        }
      ],
      "source": [
        "centros_X_comp.shape"
      ]
    },
    {
      "cell_type": "code",
      "execution_count": 62,
      "metadata": {
        "colab": {
          "base_uri": "https://localhost:8080/",
          "height": 465
        },
        "id": "t0BULpwlfExU",
        "outputId": "9f6c198b-2375-4de1-b311-af7c25bb44d9"
      },
      "outputs": [
        {
          "data": {
            "image/png": "[encoded data removed]",
            "text/plain": [
              "<Figure size 500x500 with 1 Axes>"
            ]
          },
          "metadata": {},
          "output_type": "display_data"
        }
      ],
      "source": [
        "# Experimento 1:  DATOS LIMPIOS SIN REDUCCION DE DIMENSIONALIDAD\n",
        "\n",
        "x_1 = X_limpios['Valor bruto']\n",
        "x_2 = X_limpios['Cant. pedida']\n",
        "colors = [\"b\", \"orange\"]\n",
        "fig = plt.figure(figsize = (5,5))\n",
        "\n",
        "for j in range(Numero_Clusters):\n",
        "    plt.plot(x_1[Clases_X_limpios == j], x_2[Clases_X_limpios == j], '.', color = colors[j])\n",
        "\n",
        "for pt in centros_X_limpios:\n",
        "    plt.plot(pt[0],pt[1],'rs') # r = rojo; s = square\n",
        "\n",
        "plt.xlabel(\"Valor bruto\")\n",
        "plt.ylabel(\"Cant. pedida\")\n",
        "plt.show()"
      ]
    },
    {
      "cell_type": "markdown",
      "metadata": {
        "id": "uZMhWP1tHTpp"
      },
      "source": [
        "Es dificíl separar los grupos desde la base de datos incial (sin reducción de la dimensionalidad)"
      ]
    },
    {
      "cell_type": "code",
      "execution_count": 63,
      "metadata": {
        "colab": {
          "base_uri": "https://localhost:8080/",
          "height": 465
        },
        "id": "ONwkjgrrghdH",
        "outputId": "391597c6-0cd8-4cd4-d74b-174196fdd925"
      },
      "outputs": [
        {
          "data": {
            "image/png": "[encoded data removed]",
            "text/plain": [
              "<Figure size 500x500 with 1 Axes>"
            ]
          },
          "metadata": {},
          "output_type": "display_data"
        }
      ],
      "source": [
        "# Experimento 1:  COMPONENTES REDUCIDAS (160)\n",
        "\n",
        "x_1 = X_comp['Comp_1']\n",
        "x_2 = X_comp['Comp_2']\n",
        "colors = [\"b\", \"orange\"]\n",
        "fig = plt.figure(figsize = (5,5))\n",
        "\n",
        "for j in range(Numero_Clusters):\n",
        "    plt.plot(x_1[Clases_X_comp == j], x_2[Clases_X_comp == j], '.', color = colors[j])\n",
        "\n",
        "for pt in centros_X_comp:\n",
        "    plt.plot(pt[0],pt[1],'rs') # r = rojo; s = square\n",
        "\n",
        "plt.xlabel(\"Componente 1\")\n",
        "plt.ylabel(\"Componente 2\")\n",
        "plt.show()"
      ]
    },
    {
      "cell_type": "markdown",
      "metadata": {
        "id": "0l26plqyHpyl"
      },
      "source": [
        "A simple vista se nota un mejor agrupamiento con nuestra base da datos reducida a 160 componentes."
      ]
    },
    {
      "cell_type": "markdown",
      "metadata": {
        "id": "w2E8xsbrH0l_"
      },
      "source": [
        "Ahora se debe encontrar el número de cluster óptimo para lograr la mejor agrupació, por lo cuál se hará un analisis incial del método del codo"
      ]
    },
    {
      "cell_type": "code",
      "execution_count": 64,
      "metadata": {
        "colab": {
          "base_uri": "https://localhost:8080/",
          "height": 836
        },
        "id": "-c2bkVXM5G7P",
        "outputId": "41924bf2-b0da-48bd-9d56-34cef5fda90f"
      },
      "outputs": [
        {
          "name": "stderr",
          "output_type": "stream",
          "text": [
            "/usr/local/lib/python3.10/dist-packages/sklearn/cluster/_kmeans.py:870: FutureWarning: The default value of `n_init` will change from 10 to 'auto' in 1.4. Set the value of `n_init` explicitly to suppress the warning\n",
            "  warnings.warn(\n",
            "/usr/local/lib/python3.10/dist-packages/sklearn/cluster/_kmeans.py:870: FutureWarning: The default value of `n_init` will change from 10 to 'auto' in 1.4. Set the value of `n_init` explicitly to suppress the warning\n",
            "  warnings.warn(\n",
            "/usr/local/lib/python3.10/dist-packages/sklearn/cluster/_kmeans.py:870: FutureWarning: The default value of `n_init` will change from 10 to 'auto' in 1.4. Set the value of `n_init` explicitly to suppress the warning\n",
            "  warnings.warn(\n",
            "/usr/local/lib/python3.10/dist-packages/sklearn/cluster/_kmeans.py:870: FutureWarning: The default value of `n_init` will change from 10 to 'auto' in 1.4. Set the value of `n_init` explicitly to suppress the warning\n",
            "  warnings.warn(\n",
            "/usr/local/lib/python3.10/dist-packages/sklearn/cluster/_kmeans.py:870: FutureWarning: The default value of `n_init` will change from 10 to 'auto' in 1.4. Set the value of `n_init` explicitly to suppress the warning\n",
            "  warnings.warn(\n",
            "/usr/local/lib/python3.10/dist-packages/sklearn/cluster/_kmeans.py:870: FutureWarning: The default value of `n_init` will change from 10 to 'auto' in 1.4. Set the value of `n_init` explicitly to suppress the warning\n",
            "  warnings.warn(\n",
            "/usr/local/lib/python3.10/dist-packages/sklearn/cluster/_kmeans.py:870: FutureWarning: The default value of `n_init` will change from 10 to 'auto' in 1.4. Set the value of `n_init` explicitly to suppress the warning\n",
            "  warnings.warn(\n",
            "/usr/local/lib/python3.10/dist-packages/sklearn/cluster/_kmeans.py:870: FutureWarning: The default value of `n_init` will change from 10 to 'auto' in 1.4. Set the value of `n_init` explicitly to suppress the warning\n",
            "  warnings.warn(\n"
          ]
        },
        {
          "data": {
            "image/png": "[encoded data removed]",
            "text/plain": [
              "<Figure size 800x550 with 2 Axes>"
            ]
          },
          "metadata": {},
          "output_type": "display_data"
        }
      ],
      "source": [
        "fig, ax = plt.subplots()\n",
        "Codo = KElbowVisualizer(KMeans(max_iter = max_iteraciones, tol = error, random_state = 17), \n",
        "                              k = (2,10), ax = ax)\n",
        "Codo.fit(X_comp)\n",
        "ax.set_xticks(range(2,10))\n",
        "Codo.show()\n",
        "plt.show()"
      ]
    },
    {
      "cell_type": "markdown",
      "metadata": {
        "id": "gcpHNoGLIRJt"
      },
      "source": [
        "Visualmente se puede ver que el error baja considerablemente hasta tener 5 cluster, sin embargo, vamos a revisar el cofeciente de la silueta para confirmar"
      ]
    },
    {
      "cell_type": "code",
      "execution_count": 78,
      "metadata": {
        "colab": {
          "base_uri": "https://localhost:8080/",
          "height": 1000
        },
        "id": "GHPZJhYO6zxx",
        "outputId": "646cf07f-796f-453f-e851-2266d9df787a"
      },
      "outputs": [
        {
          "name": "stderr",
          "output_type": "stream",
          "text": [
            "/usr/local/lib/python3.10/dist-packages/sklearn/cluster/_kmeans.py:870: FutureWarning: The default value of `n_init` will change from 10 to 'auto' in 1.4. Set the value of `n_init` explicitly to suppress the warning\n",
            "  warnings.warn(\n"
          ]
        },
        {
          "name": "stdout",
          "output_type": "stream",
          "text": [
            "For n_clusters = 5 The average silhouette_score is : 0.16096504516787527\n"
          ]
        },
        {
          "name": "stderr",
          "output_type": "stream",
          "text": [
            "/usr/local/lib/python3.10/dist-packages/sklearn/cluster/_kmeans.py:870: FutureWarning: The default value of `n_init` will change from 10 to 'auto' in 1.4. Set the value of `n_init` explicitly to suppress the warning\n",
            "  warnings.warn(\n"
          ]
        },
        {
          "name": "stdout",
          "output_type": "stream",
          "text": [
            "For n_clusters = 6 The average silhouette_score is : 0.15404015090665032\n"
          ]
        },
        {
          "name": "stderr",
          "output_type": "stream",
          "text": [
            "/usr/local/lib/python3.10/dist-packages/sklearn/cluster/_kmeans.py:870: FutureWarning: The default value of `n_init` will change from 10 to 'auto' in 1.4. Set the value of `n_init` explicitly to suppress the warning\n",
            "  warnings.warn(\n"
          ]
        },
        {
          "name": "stdout",
          "output_type": "stream",
          "text": [
            "For n_clusters = 8 The average silhouette_score is : 0.14896815428828067\n"
          ]
        },
        {
          "data": {
            "image/png": "[encoded data removed]",
            "text/plain": [
              "<Figure size 1800x700 with 2 Axes>"
            ]
          },
          "metadata": {},
          "output_type": "display_data"
        },
        {
          "data": {
            "image/png": "[encoded data removed]",
            "text/plain": [
              "<Figure size 1800x700 with 2 Axes>"
            ]
          },
          "metadata": {},
          "output_type": "display_data"
        },
        {
          "data": {
            "image/png": "[encoded data removed]",
            "text/plain": [
              "<Figure size 1800x700 with 2 Axes>"
            ]
          },
          "metadata": {},
          "output_type": "display_data"
        }
      ],
      "source": [
        "#For k-means, calculate the silhouette plots and coefficients for each run, iterating K from 1 to 5 clusters.\n",
        "\n",
        "range_n_clusters = [5, 6, 8]\n",
        "\n",
        "for n_clusters in range_n_clusters:\n",
        "    # Create a subplot with 1 row and 2 columns\n",
        "    fig, (ax1, ax2) = plt.subplots(1, 2)\n",
        "    fig.set_size_inches(18, 7)\n",
        "\n",
        "    # The 1st subplot is the silhouette plot\n",
        "    # The silhouette coefficient can range from -1, 1 but in this example all\n",
        "    # lie within [-0.1, 1]\n",
        "    ax1.set_xlim([-0.1, 1])\n",
        "    # The (n_clusters+1)*10 is for inserting blank space between silhouette\n",
        "    # plots of individual clusters, to demarcate them clearly.\n",
        "    ax1.set_ylim([0, len(X_comp) + (n_clusters + 1) * 10])\n",
        "\n",
        "    # Initialize the clusterer with n_clusters value and a random generator\n",
        "    # seed of 10 for reproducibility.\n",
        "    clusterer = KMeans(n_clusters=n_clusters)\n",
        "    clusterer.fit(X_comp)\n",
        "    cluster_labels = clusterer.predict(X_comp)\n",
        "\n",
        "    # The silhouette_score gives the average value for all the samples.\n",
        "    # This gives a perspective into the density and separation of the formed\n",
        "    # clusters\n",
        "    silhouette_avg = silhouette_score(X_comp, cluster_labels)\n",
        "    print(\n",
        "        \"For n_clusters =\",\n",
        "        n_clusters,\n",
        "        \"The average silhouette_score is :\",\n",
        "        silhouette_avg,\n",
        "    )\n",
        "\n",
        "    # Compute the silhouette scores for each sample\n",
        "    sample_silhouette_values = silhouette_samples(X_comp, cluster_labels)\n",
        "\n",
        "    y_lower = 10\n",
        "    for i in range(n_clusters):\n",
        "        # Aggregate the silhouette scores for samples belonging to\n",
        "        # cluster i, and sort them\n",
        "        ith_cluster_silhouette_values = sample_silhouette_values[cluster_labels == i]\n",
        "\n",
        "        ith_cluster_silhouette_values.sort()\n",
        "\n",
        "        size_cluster_i = ith_cluster_silhouette_values.shape[0]\n",
        "        y_upper = y_lower + size_cluster_i\n",
        "\n",
        "        color = cm.nipy_spectral(float(i) / n_clusters)\n",
        "        ax1.fill_betweenx(\n",
        "            np.arange(y_lower, y_upper),\n",
        "            0,\n",
        "            ith_cluster_silhouette_values,\n",
        "            facecolor=color,\n",
        "            edgecolor=color,\n",
        "            alpha=0.7,\n",
        "        )\n",
        "\n",
        "        # Label the silhouette plots with their cluster numbers at the middle\n",
        "        ax1.text(-0.05, y_lower + 0.5 * size_cluster_i, str(i))\n",
        "\n",
        "        # Compute the new y_lower for next plot\n",
        "        y_lower = y_upper + 10  # 10 for the 0 samples\n",
        "\n",
        "    ax1.set_title(\"The silhouette plot for the various clusters.\")\n",
        "    ax1.set_xlabel(\"The silhouette coefficient values\")\n",
        "    ax1.set_ylabel(\"Cluster label\")\n",
        "\n",
        "    # The vertical line for average silhouette score of all the values\n",
        "    ax1.axvline(x=silhouette_avg, color=\"red\", linestyle=\"--\")\n",
        "\n",
        "    ax1.set_yticks([])  # Clear the yaxis labels / ticks\n",
        "    ax1.set_xticks([-0.1, 0, 0.2, 0.4, 0.6, 0.8, 1])\n",
        "\n",
        "    # 2nd Plot showing the actual clusters formed\n",
        "    colors = cm.nipy_spectral(cluster_labels.astype(float) / n_clusters)\n",
        "    ax2.scatter(\n",
        "        X_comp.iloc[:, 0], X_comp.iloc[:, 1], marker=\".\", s=30, lw=0, alpha=0.7, c=colors, edgecolor=\"k\"\n",
        "    )\n",
        "\n",
        "    # Labeling the clusters\n",
        "    centers = clusterer.cluster_centers_\n",
        "    # Draw white circles at cluster centers\n",
        "    ax2.scatter(\n",
        "        centers[:, 0],\n",
        "        centers[:, 1],\n",
        "        marker=\"o\",\n",
        "        c=\"white\",\n",
        "        alpha=1,\n",
        "        s=200,\n",
        "        edgecolor=\"k\",\n",
        "    )\n",
        "\n",
        "    for i, c in enumerate(centers):\n",
        "        ax2.scatter(c[0], c[1], marker=\"$%d$\" % i, alpha=1, s=50, edgecolor=\"k\")\n",
        "\n",
        "    ax2.set_title(\"The visualization of the clustered data.\")\n",
        "    ax2.set_xlabel(\"Feature space for the 1st feature\")\n",
        "    ax2.set_ylabel(\"Feature space for the 2nd feature\")\n",
        "\n",
        "    plt.suptitle(\n",
        "        \"Silhouette analysis for KMeans clustering on sample data with n_clusters = %d\"\n",
        "        % n_clusters,\n",
        "        fontsize=14,\n",
        "        fontweight=\"bold\",\n",
        "    )\n",
        "\n",
        "plt.show()"
      ]
    },
    {
      "cell_type": "markdown",
      "metadata": {
        "id": "9LVV-Nd6I8mj"
      },
      "source": [
        "Gráficamente se observa una mejor separación con 5 cluster, incluso el coeficiente de la silueta arroja 0.16096504516787527, el más alto entre las tres opciones: 5, 6 y 8 cluster respectivamente. Además, para los 5 cluster se nota que solo uno de los grupos no alcanza esa media del score, pero sí es muy cercano."
      ]
    }
  ],
  "metadata": {
    "accelerator": "TPU",
    "colab": {
      "machine_shape": "hm",
      "provenance": [],
      "toc_visible": true
    },
    "gpuClass": "standard",
    "kernelspec": {
      "display_name": "Python 3",
      "name": "python3"
    },
    "language_info": {
      "name": "python"
    }
  },
  "nbformat": 4,
  "nbformat_minor": 0
}
